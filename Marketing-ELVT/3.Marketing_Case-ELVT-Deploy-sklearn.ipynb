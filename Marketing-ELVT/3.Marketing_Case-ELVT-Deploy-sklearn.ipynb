{
 "cells": [
  {
   "cell_type": "markdown",
   "metadata": {},
   "source": [
    "# 3.Marketing_Case-ELVT-Deploy"
   ]
  },
  {
   "cell_type": "markdown",
   "metadata": {},
   "source": [
    "# Scikit-LEARN"
   ]
  },
  {
   "cell_type": "markdown",
   "metadata": {},
   "source": [
    "In this 3rd and last notebook we will deploy our model into Azure Machine learning service"
   ]
  },
  {
   "cell_type": "code",
   "execution_count": 19,
   "metadata": {
    "collapsed": true
   },
   "outputs": [],
   "source": [
    "import sys\n",
    "import pickle\n",
    "import os\n",
    "import json\n",
    "import pandas as pd\n",
    "#!{sys.executable} -m pip install azureml-sdk --user"
   ]
  },
  {
   "cell_type": "code",
   "execution_count": 29,
   "metadata": {
    "collapsed": true
   },
   "outputs": [],
   "source": [
    "MODEL_NAME = 'ELVTmodelsklearn'\n",
    "\n",
    "FILE = 'marketing_training_cleaned.csv'\n",
    "TEST_DF_FILE = './marketing_test_sklearn.pkl'\n",
    "MODEL_FILE = './marketing_model.pkl'\n",
    "NORMALIZATION_DICT = './normalization_dict.pkl' \n",
    "\n",
    "MODEL_PATH = MODEL_FILE #taking first model from folder"
   ]
  },
  {
   "cell_type": "markdown",
   "metadata": {},
   "source": [
    "## Load Test data"
   ]
  },
  {
   "cell_type": "code",
   "execution_count": 31,
   "metadata": {
    "scrolled": true
   },
   "outputs": [
    {
     "data": {
      "text/html": [
       "<div>\n",
       "<style scoped>\n",
       "    .dataframe tbody tr th:only-of-type {\n",
       "        vertical-align: middle;\n",
       "    }\n",
       "\n",
       "    .dataframe tbody tr th {\n",
       "        vertical-align: top;\n",
       "    }\n",
       "\n",
       "    .dataframe thead th {\n",
       "        text-align: right;\n",
       "    }\n",
       "</style>\n",
       "<table border=\"1\" class=\"dataframe\">\n",
       "  <thead>\n",
       "    <tr style=\"text-align: right;\">\n",
       "      <th></th>\n",
       "      <th>pcontacted_pdays</th>\n",
       "      <th>cons.conf.idx_scaled</th>\n",
       "      <th>cons.price.idx_scaled</th>\n",
       "      <th>contact_telephone</th>\n",
       "      <th>day_of_week_thu</th>\n",
       "      <th>day_of_week_unknown</th>\n",
       "      <th>day_of_week_fri</th>\n",
       "      <th>day_of_week_mon</th>\n",
       "      <th>day_of_week_wed</th>\n",
       "      <th>day_of_week_tue</th>\n",
       "      <th>...</th>\n",
       "      <th>campaign1_2</th>\n",
       "      <th>campaign1_7+</th>\n",
       "      <th>campaign1_4</th>\n",
       "      <th>campaign1_1</th>\n",
       "      <th>campaign1_5</th>\n",
       "      <th>campaign1_3</th>\n",
       "      <th>custAge1_scaled</th>\n",
       "      <th>pastEmail1_no</th>\n",
       "      <th>pContacted_previous_no</th>\n",
       "      <th>response</th>\n",
       "    </tr>\n",
       "  </thead>\n",
       "  <tbody>\n",
       "    <tr>\n",
       "      <th>5602</th>\n",
       "      <td>1</td>\n",
       "      <td>0.376569</td>\n",
       "      <td>0.882307</td>\n",
       "      <td>1</td>\n",
       "      <td>0</td>\n",
       "      <td>1</td>\n",
       "      <td>0</td>\n",
       "      <td>0</td>\n",
       "      <td>0</td>\n",
       "      <td>0</td>\n",
       "      <td>...</td>\n",
       "      <td>0</td>\n",
       "      <td>1</td>\n",
       "      <td>0</td>\n",
       "      <td>0</td>\n",
       "      <td>0</td>\n",
       "      <td>0</td>\n",
       "      <td>0.586957</td>\n",
       "      <td>0</td>\n",
       "      <td>0</td>\n",
       "      <td>0</td>\n",
       "    </tr>\n",
       "    <tr>\n",
       "      <th>1533</th>\n",
       "      <td>1</td>\n",
       "      <td>0.368201</td>\n",
       "      <td>0.389322</td>\n",
       "      <td>0</td>\n",
       "      <td>0</td>\n",
       "      <td>1</td>\n",
       "      <td>0</td>\n",
       "      <td>0</td>\n",
       "      <td>0</td>\n",
       "      <td>0</td>\n",
       "      <td>...</td>\n",
       "      <td>1</td>\n",
       "      <td>0</td>\n",
       "      <td>0</td>\n",
       "      <td>0</td>\n",
       "      <td>0</td>\n",
       "      <td>0</td>\n",
       "      <td>0.500000</td>\n",
       "      <td>0</td>\n",
       "      <td>0</td>\n",
       "      <td>0</td>\n",
       "    </tr>\n",
       "    <tr>\n",
       "      <th>182</th>\n",
       "      <td>1</td>\n",
       "      <td>0.602510</td>\n",
       "      <td>0.698753</td>\n",
       "      <td>1</td>\n",
       "      <td>0</td>\n",
       "      <td>1</td>\n",
       "      <td>0</td>\n",
       "      <td>0</td>\n",
       "      <td>0</td>\n",
       "      <td>0</td>\n",
       "      <td>...</td>\n",
       "      <td>0</td>\n",
       "      <td>0</td>\n",
       "      <td>0</td>\n",
       "      <td>0</td>\n",
       "      <td>0</td>\n",
       "      <td>0</td>\n",
       "      <td>0.326087</td>\n",
       "      <td>0</td>\n",
       "      <td>0</td>\n",
       "      <td>0</td>\n",
       "    </tr>\n",
       "    <tr>\n",
       "      <th>3862</th>\n",
       "      <td>1</td>\n",
       "      <td>0.154812</td>\n",
       "      <td>0.340608</td>\n",
       "      <td>0</td>\n",
       "      <td>0</td>\n",
       "      <td>0</td>\n",
       "      <td>0</td>\n",
       "      <td>1</td>\n",
       "      <td>0</td>\n",
       "      <td>0</td>\n",
       "      <td>...</td>\n",
       "      <td>0</td>\n",
       "      <td>1</td>\n",
       "      <td>0</td>\n",
       "      <td>0</td>\n",
       "      <td>0</td>\n",
       "      <td>0</td>\n",
       "      <td>0.478261</td>\n",
       "      <td>1</td>\n",
       "      <td>1</td>\n",
       "      <td>0</td>\n",
       "    </tr>\n",
       "    <tr>\n",
       "      <th>611</th>\n",
       "      <td>1</td>\n",
       "      <td>0.192469</td>\n",
       "      <td>0.269680</td>\n",
       "      <td>1</td>\n",
       "      <td>0</td>\n",
       "      <td>1</td>\n",
       "      <td>0</td>\n",
       "      <td>0</td>\n",
       "      <td>0</td>\n",
       "      <td>0</td>\n",
       "      <td>...</td>\n",
       "      <td>0</td>\n",
       "      <td>0</td>\n",
       "      <td>0</td>\n",
       "      <td>1</td>\n",
       "      <td>0</td>\n",
       "      <td>0</td>\n",
       "      <td>0.239130</td>\n",
       "      <td>0</td>\n",
       "      <td>0</td>\n",
       "      <td>0</td>\n",
       "    </tr>\n",
       "  </tbody>\n",
       "</table>\n",
       "<p>5 rows × 67 columns</p>\n",
       "</div>"
      ],
      "text/plain": [
       "      pcontacted_pdays  cons.conf.idx_scaled  cons.price.idx_scaled  \\\n",
       "5602                 1              0.376569               0.882307   \n",
       "1533                 1              0.368201               0.389322   \n",
       "182                  1              0.602510               0.698753   \n",
       "3862                 1              0.154812               0.340608   \n",
       "611                  1              0.192469               0.269680   \n",
       "\n",
       "      contact_telephone  day_of_week_thu  day_of_week_unknown  \\\n",
       "5602                  1                0                    1   \n",
       "1533                  0                0                    1   \n",
       "182                   1                0                    1   \n",
       "3862                  0                0                    0   \n",
       "611                   1                0                    1   \n",
       "\n",
       "      day_of_week_fri  day_of_week_mon  day_of_week_wed  day_of_week_tue  \\\n",
       "5602                0                0                0                0   \n",
       "1533                0                0                0                0   \n",
       "182                 0                0                0                0   \n",
       "3862                0                1                0                0   \n",
       "611                 0                0                0                0   \n",
       "\n",
       "        ...     campaign1_2  campaign1_7+  campaign1_4  campaign1_1  \\\n",
       "5602    ...               0             1            0            0   \n",
       "1533    ...               1             0            0            0   \n",
       "182     ...               0             0            0            0   \n",
       "3862    ...               0             1            0            0   \n",
       "611     ...               0             0            0            1   \n",
       "\n",
       "      campaign1_5  campaign1_3  custAge1_scaled  pastEmail1_no  \\\n",
       "5602            0            0         0.586957              0   \n",
       "1533            0            0         0.500000              0   \n",
       "182             0            0         0.326087              0   \n",
       "3862            0            0         0.478261              1   \n",
       "611             0            0         0.239130              0   \n",
       "\n",
       "      pContacted_previous_no  response  \n",
       "5602                       0         0  \n",
       "1533                       0         0  \n",
       "182                        0         0  \n",
       "3862                       1         0  \n",
       "611                        0         0  \n",
       "\n",
       "[5 rows x 67 columns]"
      ]
     },
     "execution_count": 31,
     "metadata": {},
     "output_type": "execute_result"
    }
   ],
   "source": [
    "with open(TEST_DF_FILE, 'rb') as handle:\n",
    "    test = pickle.load(handle)\n",
    "test"
   ]
  },
  {
   "cell_type": "markdown",
   "metadata": {},
   "source": [
    "## Load model  "
   ]
  },
  {
   "cell_type": "code",
   "execution_count": 22,
   "metadata": {},
   "outputs": [
    {
     "data": {
      "text/plain": [
       "GaussianNB(priors=None)"
      ]
     },
     "execution_count": 22,
     "metadata": {},
     "output_type": "execute_result"
    }
   ],
   "source": [
    "with open(MODEL_FILE, 'rb') as handle:\n",
    "    model = pickle.load(handle)\n",
    "model"
   ]
  },
  {
   "cell_type": "code",
   "execution_count": 34,
   "metadata": {},
   "outputs": [
    {
     "name": "stdout",
     "output_type": "stream",
     "text": [
      "Loaded\n"
     ]
    },
    {
     "data": {
      "text/plain": [
       "{'campaign1': LabelBinarizer(neg_label=0, pos_label=1, sparse_output=False),\n",
       " 'cons.conf.idx': MinMaxScaler(copy=True, feature_range=(0, 1)),\n",
       " 'cons.price.idx': MinMaxScaler(copy=True, feature_range=(0, 1)),\n",
       " 'contact': LabelBinarizer(neg_label=0, pos_label=1, sparse_output=False),\n",
       " 'custAge1': MinMaxScaler(copy=True, feature_range=(0, 1)),\n",
       " 'day_of_week': LabelBinarizer(neg_label=0, pos_label=1, sparse_output=False),\n",
       " 'default': LabelBinarizer(neg_label=0, pos_label=1, sparse_output=False),\n",
       " 'emp.var.rate': MinMaxScaler(copy=True, feature_range=(0, 1)),\n",
       " 'euribor3m': MinMaxScaler(copy=True, feature_range=(0, 1)),\n",
       " 'housing': LabelBinarizer(neg_label=0, pos_label=1, sparse_output=False),\n",
       " 'loan': LabelBinarizer(neg_label=0, pos_label=1, sparse_output=False),\n",
       " 'marital': LabelBinarizer(neg_label=0, pos_label=1, sparse_output=False),\n",
       " 'month': LabelBinarizer(neg_label=0, pos_label=1, sparse_output=False),\n",
       " 'nr.employed': MinMaxScaler(copy=True, feature_range=(0, 1)),\n",
       " 'pContacted_previous': LabelBinarizer(neg_label=0, pos_label=1, sparse_output=False),\n",
       " 'pastEmail1': LabelBinarizer(neg_label=0, pos_label=1, sparse_output=False),\n",
       " 'poutcome': LabelBinarizer(neg_label=0, pos_label=1, sparse_output=False),\n",
       " 'profession': LabelBinarizer(neg_label=0, pos_label=1, sparse_output=False),\n",
       " 'schooling': LabelBinarizer(neg_label=0, pos_label=1, sparse_output=False)}"
      ]
     },
     "execution_count": 34,
     "metadata": {},
     "output_type": "execute_result"
    }
   ],
   "source": [
    "with open(NORMALIZATION_DICT, 'rb') as handle:\n",
    "    normalization_dict = pickle.load(handle)\n",
    "print('Loaded')\n",
    "normalization_dict"
   ]
  },
  {
   "cell_type": "markdown",
   "metadata": {},
   "source": [
    "## Create files for AZML service"
   ]
  },
  {
   "cell_type": "markdown",
   "metadata": {},
   "source": [
    "In order to make the doployment we need to create a docker image that contains all the logic and environment to run the model. To create the image with h2o it is necesary to provide 2 files \n",
    "\n",
    "    1) \"score.py\", the execution_script to make requests to the model \n",
    "    2) \"myenv.yml\", configuration file for conda environment."
   ]
  },
  {
   "cell_type": "markdown",
   "metadata": {},
   "source": [
    "### env.yml"
   ]
  },
  {
   "cell_type": "code",
   "execution_count": 24,
   "metadata": {},
   "outputs": [
    {
     "name": "stdout",
     "output_type": "stream",
     "text": [
      "Overwriting myenv.yml\n"
     ]
    }
   ],
   "source": [
    "%%writefile myenv.yml\n",
    "name: myenv\n",
    "channels:\n",
    "  - defaults\n",
    "dependencies:\n",
    "  - python=3.6\n",
    "  - pip:\n",
    "    # Required packages for AzureML execution, history, and data preparation.\n",
    "    - sklearn\n",
    "    - azureml-sdk\n",
    "    - azureml-core"
   ]
  },
  {
   "cell_type": "markdown",
   "metadata": {},
   "source": [
    "### score.py"
   ]
  },
  {
   "cell_type": "markdown",
   "metadata": {},
   "source": [
    "score.py contains two main functions:\n",
    "    \n",
    "    - init(), it will be called the first time the container is launched \n",
    "    - run(), it is called every time a request is made"
   ]
  },
  {
   "cell_type": "code",
   "execution_count": 36,
   "metadata": {
    "scrolled": false
   },
   "outputs": [
    {
     "name": "stdout",
     "output_type": "stream",
     "text": [
      "Overwriting score.py\n"
     ]
    }
   ],
   "source": [
    "%%writefile score.py\n",
    "\n",
    "import pickle\n",
    "import json\n",
    "import numpy as np\n",
    "import pandas as pd\n",
    "from azureml.core.model import Model\n",
    "from sklearn.preprocessing import LabelBinarizer\n",
    "from sklearn.preprocessing import MinMaxScaler\n",
    "\n",
    "MODEL = 'model'\n",
    "\n",
    "def init():\n",
    "    # read in the model file\n",
    "    global model\n",
    "    global normalization_dict\n",
    "\n",
    "    model_path = Model.get_model_path(model_name = MODEL)\n",
    "    \n",
    "    # load model\n",
    "    with open(MODEL_FILE, 'rb') as handle:\n",
    "        model = pickle.load(handle)\n",
    "    print(\"Model Loaded\")\n",
    "    \n",
    "    # Load normalization values\n",
    "    with open(NORMALIZATION_DICT, 'rb') as handle:\n",
    "        normalization_dict = pickle.load(handle)\n",
    "    print('Loaded')\n",
    "        \n",
    "def run(raw_data):\n",
    "    try:\n",
    "        data = json.loads(raw_data)['data']\n",
    "        data = pd.read_json(data, orient='records')\n",
    "        \n",
    "        for column in normalization_dict:\n",
    "            normalization_dict[column].fit_transform(data[column].values)\n",
    "            name = data[column].name\n",
    "            dfOneHot = pd.DataFrame(transformed, \n",
    "                                    columns =[name+\"_\"+str(list(set(data[column].values))[i]) for i in range(transformed.shape[1])])\n",
    "            data = pd.concat([data, dfOneHot], axis=1)\n",
    "\n",
    "        pred = model.predict(data)\n",
    "        print(pred)\n",
    "        \n",
    "        # Send results\n",
    "        pred = pred.as_data_frame().values.tolist()\n",
    "        return json.dumps({\"result\": pred})\n",
    "\n",
    "    except Exception as e:\n",
    "        result = str(e)\n",
    "        return json.dumps({\"error\": result})"
   ]
  },
  {
   "cell_type": "markdown",
   "metadata": {},
   "source": [
    "## Register model on Azure"
   ]
  },
  {
   "cell_type": "code",
   "execution_count": 37,
   "metadata": {},
   "outputs": [
    {
     "name": "stdout",
     "output_type": "stream",
     "text": [
      "SDK Version: 1.0.2\n"
     ]
    }
   ],
   "source": [
    "import azureml.core\n",
    "from azureml.core import Workspace\n",
    "from azureml.core.model import Model\n",
    "from azureml.core.webservice import AciWebservice\n",
    "\n",
    "print(\"SDK Version:\", azureml.core.VERSION)"
   ]
  },
  {
   "cell_type": "code",
   "execution_count": 38,
   "metadata": {},
   "outputs": [
    {
     "name": "stdout",
     "output_type": "stream",
     "text": [
      "Found the config file in: C:\\JP_NOTEBOOKS\\aml_config\\config.json\n",
      "Name: aml_workspace\n",
      "Resource Group: aml_rg\n",
      "Location: westcentralus\n"
     ]
    }
   ],
   "source": [
    "# subscription_id = \"<SUBSCRIPTION-ID>\"\n",
    "# resource_group = \"aml_rg\"\n",
    "# workspace_name = \"aml_workspace\"\n",
    "# workspace_region = 'southcentralus'\n",
    "\n",
    "# #Only one time: create the AML Workspace\n",
    "# ws = Workspace.create(name = workspace_name,\n",
    "#                       subscription_id = subscription_id,\n",
    "#                       resource_group = resource_group, \n",
    "#                       location = workspace_region)\n",
    "# ws.get_details()\n",
    "# ws.write_config()\n",
    "\n",
    "# load workspace configuratio from ./aml_config/config.json file\n",
    "ws = Workspace.from_config()\n",
    "print('Name: '+ws.name, 'Resource Group: '+ws.resource_group, 'Location: '+ws.location, sep = '\\n')"
   ]
  },
  {
   "cell_type": "code",
   "execution_count": 39,
   "metadata": {},
   "outputs": [
    {
     "name": "stdout",
     "output_type": "stream",
     "text": [
      "Registering model ELVTmodelsklearn\n",
      "Model Registered\n"
     ]
    }
   ],
   "source": [
    "model = Model.register(model_path = MODEL_PATH,\n",
    "                       model_name = MODEL_NAME,\n",
    "                       tags = {'framework': 'sklearn', 'Department':'Marketing' ,'target': \"Responded\"},\n",
    "                       description = \"Classification model using sklearn for marketing purposes\",\n",
    "                       workspace = ws)\n",
    "print('Model Registered')\n",
    "\n"
   ]
  },
  {
   "cell_type": "code",
   "execution_count": 41,
   "metadata": {},
   "outputs": [
    {
     "name": "stdout",
     "output_type": "stream",
     "text": [
      "Registering model marketing_test_sklearn\n",
      "TESTDF Registered\n",
      "Registering model normalization_dict_sklearn\n",
      "NORMALIZATION DICT Registered\n"
     ]
    }
   ],
   "source": [
    "model = Model.register(model_path = TEST_DF_FILE,\n",
    "                       model_name = 'marketing_test_sklearn',\n",
    "                       tags = {'framework': 'sklearn', 'Department':'Marketing' ,'target': \"Responded\"},\n",
    "                       description = \"Test DF using sklearn for marketing purposes\",\n",
    "                       workspace = ws)\n",
    "print('TESTDF Registered')\n",
    "\n",
    "model = Model.register(model_path = NORMALIZATION_DICT,\n",
    "                       model_name = 'normalization_dict_sklearn',\n",
    "                       tags = {'framework': 'sklearn', 'Department':'Marketing' ,'target': \"Responded\"},\n",
    "                       description = \"normalization_dict sklearn for marketing purposes\",\n",
    "                       workspace = ws)\n",
    "print('NORMALIZATION DICT Registered')\n",
    "\n"
   ]
  },
  {
   "cell_type": "code",
   "execution_count": 42,
   "metadata": {
    "scrolled": false
   },
   "outputs": [
    {
     "name": "stdout",
     "output_type": "stream",
     "text": [
      "Name: normalization_dict_sklearn \tVersion: 1\n",
      "Name: ELVTmodel \tVersion: 3\n",
      "Name: ELVTmodelsklearn \tVersion: 2\n",
      "Name: marketing_test_sklearn \tVersion: 1\n",
      "Name: model \tVersion: 1\n"
     ]
    }
   ],
   "source": [
    "for key,value in ws.models.items():\n",
    "    print(\"Name:\", key,\"\\tVersion:\", value.version)"
   ]
  },
  {
   "cell_type": "markdown",
   "metadata": {},
   "source": [
    "## Create Docker image and store it on azure"
   ]
  },
  {
   "cell_type": "code",
   "execution_count": 45,
   "metadata": {
    "scrolled": false
   },
   "outputs": [
    {
     "name": "stdout",
     "output_type": "stream",
     "text": [
      "Creating image\n",
      "Running..................\n",
      "SucceededImage creation operation finished for image elvtsklearn.image:2, operation \"Succeeded\"\n",
      "Wall time: 1min 43s\n"
     ]
    }
   ],
   "source": [
    "%%time\n",
    "from azureml.core.image import ContainerImage\n",
    "\n",
    "image_config = ContainerImage.image_configuration(execution_script = \"score.py\",\n",
    "                                                    runtime = \"python\",\n",
    "                                                    conda_file = \"myenv.yml\",\n",
    "                                                    tags = {'framework': 'sklearn', 'Department':'Marketing' ,'target': \"Responded\"},\n",
    "                                                    description = \"Classification model using sklearn for marketing purposes\")\n",
    "\n",
    "image = ContainerImage.create(name = \"elvtsklearn.image\",\n",
    "                              # this is the model object\n",
    "                              models = [model],\n",
    "                              image_config = image_config,\n",
    "                              workspace = ws)\n",
    "\n",
    "image.wait_for_creation(show_output = True)"
   ]
  },
  {
   "cell_type": "markdown",
   "metadata": {},
   "source": [
    "## Deploy as web service on Azure Container Instance "
   ]
  },
  {
   "cell_type": "code",
   "execution_count": 47,
   "metadata": {
    "collapsed": true
   },
   "outputs": [],
   "source": [
    "aci_service_name = 'aci-elvt'\n",
    "\n",
    "aciconfig = AciWebservice.deploy_configuration(cpu_cores = 1, \n",
    "                                               memory_gb = 4, \n",
    "                                               tags = {'framework': 'sklearn', 'Department':'Marketing' ,'target': \"Responded\"},\n",
    "                                               description = \"Classification model using h2o for marketing purposes\")\n"
   ]
  },
  {
   "cell_type": "code",
   "execution_count": null,
   "metadata": {
    "scrolled": true
   },
   "outputs": [],
   "source": [
    "%%time\n",
    "# create an Azure Container Instance service \n",
    "\n",
    "aci_service = AciWebservice.deploy_from_image(deployment_config = aciconfig,\n",
    "                                       image = image,\n",
    "                                       name = aci_service_name,\n",
    "                                       workspace = ws)\n",
    "aci_service.wait_for_deployment(True)\n",
    "print(aci_service.state)\n"
   ]
  },
  {
   "cell_type": "code",
   "execution_count": null,
   "metadata": {
    "collapsed": true,
    "scrolled": true
   },
   "outputs": [],
   "source": [
    "#print(aci_service.get_logs())"
   ]
  },
  {
   "cell_type": "code",
   "execution_count": null,
   "metadata": {
    "scrolled": true
   },
   "outputs": [],
   "source": [
    "print(aci_service.name)\n",
    "print(aci_service.state)\n",
    "print(aci_service.location)\n",
    "print(aci_service.image_id)\n",
    "print(aci_service.scoring_uri)\n",
    "print(aci_service.description)\n",
    "print(aci_service.tags)"
   ]
  },
  {
   "cell_type": "markdown",
   "metadata": {},
   "source": [
    "## Testing"
   ]
  },
  {
   "cell_type": "code",
   "execution_count": null,
   "metadata": {
    "collapsed": true
   },
   "outputs": [],
   "source": [
    "print('web service hosted in ACI:', aci_service.scoring_uri)"
   ]
  },
  {
   "cell_type": "code",
   "execution_count": 49,
   "metadata": {},
   "outputs": [
    {
     "data": {
      "text/plain": [
       "'{\"data\": \"[{\\\\\"pcontacted_pdays\\\\\":1,\\\\\"cons.conf.idx_scaled\\\\\":0.3765690377,\\\\\"cons.price.idx_scaled\\\\\":0.8823070928,\\\\\"contact_telephone\\\\\":1,\\\\\"day_of_week_thu\\\\\":0,\\\\\"day_of_week_unknown\\\\\":1,\\\\\"day_of_week_fri\\\\\":0,\\\\\"day_of_week_mon\\\\\":0,\\\\\"day_of_week_wed\\\\\":0,\\\\\"day_of_week_tue\\\\\":0,\\\\\"default_unknown\\\\\":0,\\\\\"emp.var.rate_scaled\\\\\":1.0,\\\\\"euribor3m_scaled\\\\\":0.9591929268,\\\\\"housing_unknown\\\\\":1,\\\\\"housing_no\\\\\":0,\\\\\"housing_yes\\\\\":0,\\\\\"loan_unknown\\\\\":1,\\\\\"loan_no\\\\\":0,\\\\\"loan_yes\\\\\":0,\\\\\"marital_unknown\\\\\":0,\\\\\"marital_married\\\\\":1,\\\\\"marital_single\\\\\":0,\\\\\"marital_divorced\\\\\":0,\\\\\"month_sep\\\\\":0,\\\\\"month_mar\\\\\":0,\\\\\"month_aug\\\\\":0,\\\\\"month_may\\\\\":0,\\\\\"month_nov\\\\\":1,\\\\\"month_dec\\\\\":0,\\\\\"month_jun\\\\\":0,\\\\\"month_oct\\\\\":0,\\\\\"month_jul\\\\\":0,\\\\\"month_apr\\\\\":0,\\\\\"nr.employed_scaled\\\\\":1.0,\\\\\"poutcome_success\\\\\":0,\\\\\"poutcome_nonexistent\\\\\":1,\\\\\"poutcome_failure\\\\\":0,\\\\\"profession_housemaid\\\\\":0,\\\\\"profession_unknown\\\\\":0,\\\\\"profession_student\\\\\":0,\\\\\"profession_services\\\\\":0,\\\\\"profession_technician\\\\\":0,\\\\\"profession_blue-collar\\\\\":0,\\\\\"profession_self-employed\\\\\":0,\\\\\"profession_retired\\\\\":0,\\\\\"profession_entrepreneur\\\\\":0,\\\\\"profession_management\\\\\":1,\\\\\"profession_unemployed\\\\\":0,\\\\\"profession_admin.\\\\\":0,\\\\\"schooling_high.school\\\\\":0,\\\\\"schooling_basic.6y\\\\\":0,\\\\\"schooling_university.degree\\\\\":0,\\\\\"schooling_other\\\\\":0,\\\\\"schooling_professional.course\\\\\":0,\\\\\"schooling_basic.4y\\\\\":0,\\\\\"schooling_basic.9y\\\\\":1,\\\\\"campaign1_6\\\\\":0,\\\\\"campaign1_2\\\\\":0,\\\\\"campaign1_7+\\\\\":1,\\\\\"campaign1_4\\\\\":0,\\\\\"campaign1_1\\\\\":0,\\\\\"campaign1_5\\\\\":0,\\\\\"campaign1_3\\\\\":0,\\\\\"custAge1_scaled\\\\\":0.5869565217,\\\\\"pastEmail1_no\\\\\":0,\\\\\"pContacted_previous_no\\\\\":0,\\\\\"response\\\\\":0},{\\\\\"pcontacted_pdays\\\\\":1,\\\\\"cons.conf.idx_scaled\\\\\":0.3682008368,\\\\\"cons.price.idx_scaled\\\\\":0.3893219018,\\\\\"contact_telephone\\\\\":0,\\\\\"day_of_week_thu\\\\\":0,\\\\\"day_of_week_unknown\\\\\":1,\\\\\"day_of_week_fri\\\\\":0,\\\\\"day_of_week_mon\\\\\":0,\\\\\"day_of_week_wed\\\\\":0,\\\\\"day_of_week_tue\\\\\":0,\\\\\"default_unknown\\\\\":0,\\\\\"emp.var.rate_scaled\\\\\":0.6875,\\\\\"euribor3m_scaled\\\\\":0.8063931081,\\\\\"housing_unknown\\\\\":1,\\\\\"housing_no\\\\\":0,\\\\\"housing_yes\\\\\":0,\\\\\"loan_unknown\\\\\":1,\\\\\"loan_no\\\\\":0,\\\\\"loan_yes\\\\\":0,\\\\\"marital_unknown\\\\\":0,\\\\\"marital_married\\\\\":1,\\\\\"marital_single\\\\\":0,\\\\\"marital_divorced\\\\\":0,\\\\\"month_sep\\\\\":0,\\\\\"month_mar\\\\\":0,\\\\\"month_aug\\\\\":0,\\\\\"month_may\\\\\":0,\\\\\"month_nov\\\\\":0,\\\\\"month_dec\\\\\":0,\\\\\"month_jun\\\\\":0,\\\\\"month_oct\\\\\":1,\\\\\"month_jul\\\\\":0,\\\\\"month_apr\\\\\":0,\\\\\"nr.employed_scaled\\\\\":0.8778827977,\\\\\"poutcome_success\\\\\":0,\\\\\"poutcome_nonexistent\\\\\":1,\\\\\"poutcome_failure\\\\\":0,\\\\\"profession_housemaid\\\\\":0,\\\\\"profession_unknown\\\\\":0,\\\\\"profession_student\\\\\":0,\\\\\"profession_services\\\\\":0,\\\\\"profession_technician\\\\\":0,\\\\\"profession_blue-collar\\\\\":0,\\\\\"profession_self-employed\\\\\":0,\\\\\"profession_retired\\\\\":0,\\\\\"profession_entrepreneur\\\\\":0,\\\\\"profession_management\\\\\":1,\\\\\"profession_unemployed\\\\\":0,\\\\\"profession_admin.\\\\\":0,\\\\\"schooling_high.school\\\\\":0,\\\\\"schooling_basic.6y\\\\\":0,\\\\\"schooling_university.degree\\\\\":0,\\\\\"schooling_other\\\\\":0,\\\\\"schooling_professional.course\\\\\":1,\\\\\"schooling_basic.4y\\\\\":0,\\\\\"schooling_basic.9y\\\\\":0,\\\\\"campaign1_6\\\\\":0,\\\\\"campaign1_2\\\\\":1,\\\\\"campaign1_7+\\\\\":0,\\\\\"campaign1_4\\\\\":0,\\\\\"campaign1_1\\\\\":0,\\\\\"campaign1_5\\\\\":0,\\\\\"campaign1_3\\\\\":0,\\\\\"custAge1_scaled\\\\\":0.5,\\\\\"pastEmail1_no\\\\\":0,\\\\\"pContacted_previous_no\\\\\":0,\\\\\"response\\\\\":0},{\\\\\"pcontacted_pdays\\\\\":1,\\\\\"cons.conf.idx_scaled\\\\\":0.6025104603,\\\\\"cons.price.idx_scaled\\\\\":0.6987529228,\\\\\"contact_telephone\\\\\":1,\\\\\"day_of_week_thu\\\\\":0,\\\\\"day_of_week_unknown\\\\\":1,\\\\\"day_of_week_fri\\\\\":0,\\\\\"day_of_week_mon\\\\\":0,\\\\\"day_of_week_wed\\\\\":0,\\\\\"day_of_week_tue\\\\\":0,\\\\\"default_unknown\\\\\":0,\\\\\"emp.var.rate_scaled\\\\\":0.9375,\\\\\"euribor3m_scaled\\\\\":0.9573792791,\\\\\"housing_unknown\\\\\":1,\\\\\"housing_no\\\\\":0,\\\\\"housing_yes\\\\\":0,\\\\\"loan_unknown\\\\\":1,\\\\\"loan_no\\\\\":0,\\\\\"loan_yes\\\\\":0,\\\\\"marital_unknown\\\\\":0,\\\\\"marital_married\\\\\":0,\\\\\"marital_single\\\\\":1,\\\\\"marital_divorced\\\\\":0,\\\\\"month_sep\\\\\":0,\\\\\"month_mar\\\\\":0,\\\\\"month_aug\\\\\":0,\\\\\"month_may\\\\\":0,\\\\\"month_nov\\\\\":0,\\\\\"month_dec\\\\\":0,\\\\\"month_jun\\\\\":1,\\\\\"month_oct\\\\\":0,\\\\\"month_jul\\\\\":0,\\\\\"month_apr\\\\\":0,\\\\\"nr.employed_scaled\\\\\":0.8597353497,\\\\\"poutcome_success\\\\\":0,\\\\\"poutcome_nonexistent\\\\\":1,\\\\\"poutcome_failure\\\\\":0,\\\\\"profession_housemaid\\\\\":0,\\\\\"profession_unknown\\\\\":0,\\\\\"profession_student\\\\\":0,\\\\\"profession_services\\\\\":0,\\\\\"profession_technician\\\\\":0,\\\\\"profession_blue-collar\\\\\":0,\\\\\"profession_self-employed\\\\\":0,\\\\\"profession_retired\\\\\":1,\\\\\"profession_entrepreneur\\\\\":0,\\\\\"profession_management\\\\\":0,\\\\\"profession_unemployed\\\\\":0,\\\\\"profession_admin.\\\\\":0,\\\\\"schooling_high.school\\\\\":0,\\\\\"schooling_basic.6y\\\\\":0,\\\\\"schooling_university.degree\\\\\":0,\\\\\"schooling_other\\\\\":1,\\\\\"schooling_professional.course\\\\\":0,\\\\\"schooling_basic.4y\\\\\":0,\\\\\"schooling_basic.9y\\\\\":0,\\\\\"campaign1_6\\\\\":1,\\\\\"campaign1_2\\\\\":0,\\\\\"campaign1_7+\\\\\":0,\\\\\"campaign1_4\\\\\":0,\\\\\"campaign1_1\\\\\":0,\\\\\"campaign1_5\\\\\":0,\\\\\"campaign1_3\\\\\":0,\\\\\"custAge1_scaled\\\\\":0.3260869565,\\\\\"pastEmail1_no\\\\\":0,\\\\\"pContacted_previous_no\\\\\":0,\\\\\"response\\\\\":0},{\\\\\"pcontacted_pdays\\\\\":1,\\\\\"cons.conf.idx_scaled\\\\\":0.1548117155,\\\\\"cons.price.idx_scaled\\\\\":0.3406079501,\\\\\"contact_telephone\\\\\":0,\\\\\"day_of_week_thu\\\\\":0,\\\\\"day_of_week_unknown\\\\\":0,\\\\\"day_of_week_fri\\\\\":0,\\\\\"day_of_week_mon\\\\\":1,\\\\\"day_of_week_wed\\\\\":0,\\\\\"day_of_week_tue\\\\\":0,\\\\\"default_unknown\\\\\":0,\\\\\"emp.var.rate_scaled\\\\\":0.3333333333,\\\\\"euribor3m_scaled\\\\\":0.1856721832,\\\\\"housing_unknown\\\\\":1,\\\\\"housing_no\\\\\":0,\\\\\"housing_yes\\\\\":0,\\\\\"loan_unknown\\\\\":1,\\\\\"loan_no\\\\\":0,\\\\\"loan_yes\\\\\":0,\\\\\"marital_unknown\\\\\":0,\\\\\"marital_married\\\\\":1,\\\\\"marital_single\\\\\":0,\\\\\"marital_divorced\\\\\":0,\\\\\"month_sep\\\\\":1,\\\\\"month_mar\\\\\":0,\\\\\"month_aug\\\\\":0,\\\\\"month_may\\\\\":0,\\\\\"month_nov\\\\\":0,\\\\\"month_dec\\\\\":0,\\\\\"month_jun\\\\\":0,\\\\\"month_oct\\\\\":0,\\\\\"month_jul\\\\\":0,\\\\\"month_apr\\\\\":0,\\\\\"nr.employed_scaled\\\\\":0.5122873346,\\\\\"poutcome_success\\\\\":1,\\\\\"poutcome_nonexistent\\\\\":0,\\\\\"poutcome_failure\\\\\":0,\\\\\"profession_housemaid\\\\\":0,\\\\\"profession_unknown\\\\\":1,\\\\\"profession_student\\\\\":0,\\\\\"profession_services\\\\\":0,\\\\\"profession_technician\\\\\":0,\\\\\"profession_blue-collar\\\\\":0,\\\\\"profession_self-employed\\\\\":0,\\\\\"profession_retired\\\\\":0,\\\\\"profession_entrepreneur\\\\\":0,\\\\\"profession_management\\\\\":0,\\\\\"profession_unemployed\\\\\":0,\\\\\"profession_admin.\\\\\":0,\\\\\"schooling_high.school\\\\\":0,\\\\\"schooling_basic.6y\\\\\":0,\\\\\"schooling_university.degree\\\\\":0,\\\\\"schooling_other\\\\\":1,\\\\\"schooling_professional.course\\\\\":0,\\\\\"schooling_basic.4y\\\\\":0,\\\\\"schooling_basic.9y\\\\\":0,\\\\\"campaign1_6\\\\\":0,\\\\\"campaign1_2\\\\\":0,\\\\\"campaign1_7+\\\\\":1,\\\\\"campaign1_4\\\\\":0,\\\\\"campaign1_1\\\\\":0,\\\\\"campaign1_5\\\\\":0,\\\\\"campaign1_3\\\\\":0,\\\\\"custAge1_scaled\\\\\":0.4782608696,\\\\\"pastEmail1_no\\\\\":1,\\\\\"pContacted_previous_no\\\\\":1,\\\\\"response\\\\\":0},{\\\\\"pcontacted_pdays\\\\\":1,\\\\\"cons.conf.idx_scaled\\\\\":0.1924686192,\\\\\"cons.price.idx_scaled\\\\\":0.2696804365,\\\\\"contact_telephone\\\\\":1,\\\\\"day_of_week_thu\\\\\":0,\\\\\"day_of_week_unknown\\\\\":1,\\\\\"day_of_week_fri\\\\\":0,\\\\\"day_of_week_mon\\\\\":0,\\\\\"day_of_week_wed\\\\\":0,\\\\\"day_of_week_tue\\\\\":0,\\\\\"default_unknown\\\\\":0,\\\\\"emp.var.rate_scaled\\\\\":0.3333333333,\\\\\"euribor3m_scaled\\\\\":0.1632282929,\\\\\"housing_unknown\\\\\":1,\\\\\"housing_no\\\\\":0,\\\\\"housing_yes\\\\\":0,\\\\\"loan_unknown\\\\\":1,\\\\\"loan_no\\\\\":0,\\\\\"loan_yes\\\\\":0,\\\\\"marital_unknown\\\\\":0,\\\\\"marital_married\\\\\":1,\\\\\"marital_single\\\\\":0,\\\\\"marital_divorced\\\\\":0,\\\\\"month_sep\\\\\":0,\\\\\"month_mar\\\\\":0,\\\\\"month_aug\\\\\":0,\\\\\"month_may\\\\\":0,\\\\\"month_nov\\\\\":0,\\\\\"month_dec\\\\\":0,\\\\\"month_jun\\\\\":1,\\\\\"month_oct\\\\\":0,\\\\\"month_jul\\\\\":0,\\\\\"month_apr\\\\\":0,\\\\\"nr.employed_scaled\\\\\":0.5122873346,\\\\\"poutcome_success\\\\\":0,\\\\\"poutcome_nonexistent\\\\\":1,\\\\\"poutcome_failure\\\\\":0,\\\\\"profession_housemaid\\\\\":0,\\\\\"profession_unknown\\\\\":0,\\\\\"profession_student\\\\\":0,\\\\\"profession_services\\\\\":0,\\\\\"profession_technician\\\\\":1,\\\\\"profession_blue-collar\\\\\":0,\\\\\"profession_self-employed\\\\\":0,\\\\\"profession_retired\\\\\":0,\\\\\"profession_entrepreneur\\\\\":0,\\\\\"profession_management\\\\\":0,\\\\\"profession_unemployed\\\\\":0,\\\\\"profession_admin.\\\\\":0,\\\\\"schooling_high.school\\\\\":0,\\\\\"schooling_basic.6y\\\\\":0,\\\\\"schooling_university.degree\\\\\":0,\\\\\"schooling_other\\\\\":0,\\\\\"schooling_professional.course\\\\\":1,\\\\\"schooling_basic.4y\\\\\":0,\\\\\"schooling_basic.9y\\\\\":0,\\\\\"campaign1_6\\\\\":0,\\\\\"campaign1_2\\\\\":0,\\\\\"campaign1_7+\\\\\":0,\\\\\"campaign1_4\\\\\":0,\\\\\"campaign1_1\\\\\":1,\\\\\"campaign1_5\\\\\":0,\\\\\"campaign1_3\\\\\":0,\\\\\"custAge1_scaled\\\\\":0.2391304348,\\\\\"pastEmail1_no\\\\\":0,\\\\\"pContacted_previous_no\\\\\":0,\\\\\"response\\\\\":0}]\"}'"
      ]
     },
     "metadata": {},
     "output_type": "display_data"
    }
   ],
   "source": [
    "test_json = json.dumps({\"data\": test.to_json(orient='records')})\n",
    "display(test_json)"
   ]
  },
  {
   "cell_type": "code",
   "execution_count": null,
   "metadata": {
    "collapsed": true
   },
   "outputs": [],
   "source": [
    "prediction = aci_service.run(input_data = test_json)\n",
    "print(prediction)"
   ]
  }
 ],
 "metadata": {
  "kernelspec": {
   "display_name": "Python 3",
   "language": "python",
   "name": "python3"
  },
  "language_info": {
   "codemirror_mode": {
    "name": "ipython",
    "version": 3
   },
   "file_extension": ".py",
   "mimetype": "text/x-python",
   "name": "python",
   "nbconvert_exporter": "python",
   "pygments_lexer": "ipython3",
   "version": "3.6.3"
  }
 },
 "nbformat": 4,
 "nbformat_minor": 2
}
