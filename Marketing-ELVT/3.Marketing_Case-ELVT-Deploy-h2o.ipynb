{
 "cells": [
  {
   "cell_type": "markdown",
   "metadata": {},
   "source": [
    "# 3.Marketing_Case-ELVT-Deploy"
   ]
  },
  {
   "cell_type": "markdown",
   "metadata": {},
   "source": [
    "# H2O"
   ]
  },
  {
   "cell_type": "markdown",
   "metadata": {},
   "source": [
    "In this 3rd and last notebook we will deploy our model into Azure Machine learning service"
   ]
  },
  {
   "cell_type": "code",
   "execution_count": 110,
   "metadata": {
    "collapsed": true
   },
   "outputs": [],
   "source": [
    "import sys\n",
    "import pickle\n",
    "import os\n",
    "import json\n",
    "import pandas as pd\n",
    "import h2o\n",
    "#!{sys.executable} -m pip install azureml-sdk --user"
   ]
  },
  {
   "cell_type": "code",
   "execution_count": 62,
   "metadata": {
    "collapsed": true
   },
   "outputs": [],
   "source": [
    "TEST_DF_FILE = 'marketing_test.pkl'\n",
    "MODEL_FOLDER = './marketing_model/'\n",
    "MODEL = 'ELVTmodel'\n",
    "\n",
    "\n",
    "MODEL_PATH = MODEL_FOLDER + os.listdir(MODEL_FOLDER)[0] #taking first model from folder"
   ]
  },
  {
   "cell_type": "markdown",
   "metadata": {},
   "source": [
    "## Load Test data"
   ]
  },
  {
   "cell_type": "code",
   "execution_count": 8,
   "metadata": {
    "scrolled": true
   },
   "outputs": [
    {
     "data": {
      "text/html": [
       "<div>\n",
       "<style scoped>\n",
       "    .dataframe tbody tr th:only-of-type {\n",
       "        vertical-align: middle;\n",
       "    }\n",
       "\n",
       "    .dataframe tbody tr th {\n",
       "        vertical-align: top;\n",
       "    }\n",
       "\n",
       "    .dataframe thead th {\n",
       "        text-align: right;\n",
       "    }\n",
       "</style>\n",
       "<table border=\"1\" class=\"dataframe\">\n",
       "  <thead>\n",
       "    <tr style=\"text-align: right;\">\n",
       "      <th></th>\n",
       "      <th>cons.conf.idx</th>\n",
       "      <th>cons.price.idx</th>\n",
       "      <th>contact</th>\n",
       "      <th>day_of_week</th>\n",
       "      <th>default</th>\n",
       "      <th>emp.var.rate</th>\n",
       "      <th>euribor3m</th>\n",
       "      <th>housing</th>\n",
       "      <th>loan</th>\n",
       "      <th>marital</th>\n",
       "      <th>...</th>\n",
       "      <th>nr.employed</th>\n",
       "      <th>poutcome</th>\n",
       "      <th>profession</th>\n",
       "      <th>responded</th>\n",
       "      <th>schooling</th>\n",
       "      <th>campaign1</th>\n",
       "      <th>custAge1</th>\n",
       "      <th>pastEmail1</th>\n",
       "      <th>pcontacted_pdays</th>\n",
       "      <th>pContacted_previous</th>\n",
       "    </tr>\n",
       "  </thead>\n",
       "  <tbody>\n",
       "    <tr>\n",
       "      <th>0</th>\n",
       "      <td>-36.4</td>\n",
       "      <td>93.994</td>\n",
       "      <td>telephone</td>\n",
       "      <td>wed</td>\n",
       "      <td>no</td>\n",
       "      <td>1.1</td>\n",
       "      <td>4.859</td>\n",
       "      <td>no</td>\n",
       "      <td>no</td>\n",
       "      <td>married</td>\n",
       "      <td>...</td>\n",
       "      <td>5191</td>\n",
       "      <td>nonexistent</td>\n",
       "      <td>blue-collar</td>\n",
       "      <td>no</td>\n",
       "      <td>basic.6y</td>\n",
       "      <td>2</td>\n",
       "      <td>42</td>\n",
       "      <td>no</td>\n",
       "      <td>True</td>\n",
       "      <td>no</td>\n",
       "    </tr>\n",
       "  </tbody>\n",
       "</table>\n",
       "<p>1 rows × 21 columns</p>\n",
       "</div>"
      ],
      "text/plain": [
       "   cons.conf.idx  cons.price.idx    contact day_of_week default  emp.var.rate  \\\n",
       "0          -36.4          93.994  telephone         wed      no           1.1   \n",
       "\n",
       "   euribor3m housing loan  marital         ...          nr.employed  \\\n",
       "0      4.859      no   no  married         ...                 5191   \n",
       "\n",
       "      poutcome   profession responded schooling campaign1  custAge1  \\\n",
       "0  nonexistent  blue-collar        no  basic.6y         2        42   \n",
       "\n",
       "   pastEmail1 pcontacted_pdays  pContacted_previous  \n",
       "0          no             True                   no  \n",
       "\n",
       "[1 rows x 21 columns]"
      ]
     },
     "execution_count": 8,
     "metadata": {},
     "output_type": "execute_result"
    }
   ],
   "source": [
    "with open(TEST_DF_FILE, 'rb') as handle:\n",
    "    test = pickle.load(handle)\n",
    "test"
   ]
  },
  {
   "cell_type": "markdown",
   "metadata": {},
   "source": [
    "## Verify and load model  "
   ]
  },
  {
   "cell_type": "code",
   "execution_count": 120,
   "metadata": {
    "collapsed": true
   },
   "outputs": [],
   "source": [
    "#h2o.init()\n",
    "# model = h2o.load_model(MODEL_PATH)\n",
    "# h2o.shutdown()"
   ]
  },
  {
   "cell_type": "markdown",
   "metadata": {},
   "source": [
    "## Create files for AZML service"
   ]
  },
  {
   "cell_type": "markdown",
   "metadata": {},
   "source": [
    "In order to make the doployment we need to create a docker image that contains all the logic and environment to run the model. To create the image with h2o it is necesary to provide 2 files \n",
    "\n",
    "    1) \"score.py\", the execution_script to make requests to the model \n",
    "    2) \"myenv.yml\", configuration file for conda environment."
   ]
  },
  {
   "cell_type": "markdown",
   "metadata": {},
   "source": [
    "### env.yml"
   ]
  },
  {
   "cell_type": "code",
   "execution_count": 121,
   "metadata": {},
   "outputs": [
    {
     "name": "stdout",
     "output_type": "stream",
     "text": [
      "Overwriting myenv.yml\n"
     ]
    }
   ],
   "source": [
    "%%writefile myenv.yml\n",
    "name: myenv\n",
    "channels:\n",
    "  - defaults\n",
    "dependencies:\n",
    "  - python=3.6\n",
    "  - pip:\n",
    "    - colorama ==0.3.8\n",
    "    - future ==0.15.2\n",
    "    - tabulate ==0.7.5\n",
    "    - requests ==2.10\n",
    "    - h2o\n",
    "    # Required packages for AzureML execution, history, and data preparation.\n",
    "    - azureml-sdk\n",
    "    - azureml-core"
   ]
  },
  {
   "cell_type": "markdown",
   "metadata": {},
   "source": [
    "### score.py"
   ]
  },
  {
   "cell_type": "markdown",
   "metadata": {},
   "source": [
    "score.py contains two main functions:\n",
    "    \n",
    "    - init(), it will be called the first time the container is launched \n",
    "    - run(), it is called every time a request is made"
   ]
  },
  {
   "cell_type": "code",
   "execution_count": 122,
   "metadata": {
    "scrolled": false
   },
   "outputs": [
    {
     "name": "stdout",
     "output_type": "stream",
     "text": [
      "Overwriting score.py\n"
     ]
    }
   ],
   "source": [
    "%%writefile score.py\n",
    "\n",
    "import pickle\n",
    "import json\n",
    "import numpy as np\n",
    "import pandas as pd\n",
    "from azureml.core.model import Model\n",
    "import h2o\n",
    "\n",
    "MODEL = 'model'\n",
    "\n",
    "def init():\n",
    "    # read in the model file\n",
    "    global model\n",
    "    h2o.no_progress()\n",
    "    h2o.init()\n",
    "\n",
    "    model_path = Model.get_model_path(model_name = MODEL)\n",
    "\n",
    "    # load model\n",
    "    model = h2o.load_model(model_path)\n",
    "    print(\"Model Loaded\")\n",
    "        \n",
    "def run(raw_data):\n",
    "    try:\n",
    "        data = json.loads(raw_data)['data']\n",
    "        data = pd.read_json(data, orient='records')\n",
    "        \n",
    "        data_hex = h2o.H2OFrame(data)\n",
    "\n",
    "        pred = model.predict(data_hex)\n",
    "        print(pred)\n",
    "        \n",
    "        # Send results\n",
    "        pred = pred.as_data_frame().values.tolist()\n",
    "        return json.dumps({\"result\": pred})\n",
    "\n",
    "    except Exception as e:\n",
    "        result = str(e)\n",
    "        return json.dumps({\"error\": result})"
   ]
  },
  {
   "cell_type": "markdown",
   "metadata": {},
   "source": [
    "## Register model on Azure"
   ]
  },
  {
   "cell_type": "code",
   "execution_count": 72,
   "metadata": {},
   "outputs": [
    {
     "name": "stdout",
     "output_type": "stream",
     "text": [
      "SDK Version: 1.0.2\n"
     ]
    }
   ],
   "source": [
    "import azureml.core\n",
    "from azureml.core import Workspace\n",
    "from azureml.core.model import Model\n",
    "from azureml.core.webservice import AciWebservice\n",
    "\n",
    "print(\"SDK Version:\", azureml.core.VERSION)"
   ]
  },
  {
   "cell_type": "code",
   "execution_count": 73,
   "metadata": {},
   "outputs": [
    {
     "name": "stdout",
     "output_type": "stream",
     "text": [
      "Found the config file in: C:\\JP_NOTEBOOKS\\aml_config\\config.json\n",
      "Name: aml_workspace\n",
      "Resource Group: aml_rg\n",
      "Location: westcentralus\n"
     ]
    }
   ],
   "source": [
    "# subscription_id = \"<SUBSCRIPTION-ID>\"\n",
    "# resource_group = \"aml_rg\"\n",
    "# workspace_name = \"aml_workspace\"\n",
    "# workspace_region = 'southcentralus'\n",
    "\n",
    "# #Only one time: create the AML Workspace\n",
    "# ws = Workspace.create(name = workspace_name,\n",
    "#                       subscription_id = subscription_id,\n",
    "#                       resource_group = resource_group, \n",
    "#                       location = workspace_region)\n",
    "# ws.get_details()\n",
    "# ws.write_config()\n",
    "\n",
    "# load workspace configuratio from ./aml_config/config.json file\n",
    "ws = Workspace.from_config()\n",
    "print('Name: '+ws.name, 'Resource Group: '+ws.resource_group, 'Location: '+ws.location, sep = '\\n')"
   ]
  },
  {
   "cell_type": "code",
   "execution_count": 65,
   "metadata": {},
   "outputs": [
    {
     "name": "stdout",
     "output_type": "stream",
     "text": [
      "Registering model ELVTmodel\n",
      "Model Registered\n"
     ]
    }
   ],
   "source": [
    "model = Model.register(model_path = MODEL_PATH,\n",
    "                       model_name = MODEL,\n",
    "                       tags = {'framework': 'h2o', 'Department':'Marketing' ,'target': \"Responded\"},\n",
    "                       description = \"Classification model using h2o for marketing purposes\",\n",
    "                       workspace = ws)\n",
    "print('Model Registered')"
   ]
  },
  {
   "cell_type": "code",
   "execution_count": 66,
   "metadata": {
    "scrolled": true
   },
   "outputs": [
    {
     "name": "stdout",
     "output_type": "stream",
     "text": [
      "Name: ELVTmodel \tVersion: 2\n",
      "Name: model \tVersion: 1\n"
     ]
    }
   ],
   "source": [
    "for key,value in ws.models.items():\n",
    "    print(\"Name:\", key,\"\\tVersion:\", value.version)"
   ]
  },
  {
   "cell_type": "markdown",
   "metadata": {},
   "source": [
    "## Create Docker image and store it on azure"
   ]
  },
  {
   "cell_type": "code",
   "execution_count": 112,
   "metadata": {
    "scrolled": false
   },
   "outputs": [
    {
     "name": "stdout",
     "output_type": "stream",
     "text": [
      "Creating image\n",
      "Running.......................\n",
      "SucceededImage creation operation finished for image elvt.image:7, operation \"Succeeded\"\n",
      "Wall time: 2min 43s\n"
     ]
    }
   ],
   "source": [
    "%%time\n",
    "from azureml.core.image import ContainerImage\n",
    "\n",
    "image_config = ContainerImage.image_configuration(execution_script = \"score.py\",\n",
    "                                                    runtime = \"python\",\n",
    "                                                    conda_file = \"myenv.yml\",\n",
    "                                                    tags = {'framework': 'h2o', 'Department':'Marketing' ,'target': \"Responded\"},\n",
    "                                                    description = \"Classification model using h2o for marketing purposes\")\n",
    "\n",
    "image = ContainerImage.create(name = \"elvt.image\",\n",
    "                              # this is the model object\n",
    "                              models = [model],\n",
    "                              image_config = image_config,\n",
    "                              workspace = ws)\n",
    "\n",
    "image.wait_for_creation(show_output = True)"
   ]
  },
  {
   "cell_type": "markdown",
   "metadata": {},
   "source": [
    "## Deploy as web service on Azure Container Instance "
   ]
  },
  {
   "cell_type": "code",
   "execution_count": 92,
   "metadata": {
    "collapsed": true
   },
   "outputs": [],
   "source": [
    "\n",
    "aci_service_name = 'aci-elvt'\n",
    "\n",
    "aciconfig = AciWebservice.deploy_configuration(cpu_cores = 1, \n",
    "                                               memory_gb = 4, \n",
    "                                               tags = {'framework': 'h2o', 'Department':'Marketing' ,'target': \"Responded\"},\n",
    "                                               description = \"Classification model using h2o for marketing purposes\")\n"
   ]
  },
  {
   "cell_type": "code",
   "execution_count": null,
   "metadata": {
    "scrolled": true
   },
   "outputs": [],
   "source": [
    "%%time\n",
    "# create an Azure Container Instance service \n",
    "\n",
    "aci_service = AciWebservice.deploy_from_image(deployment_config = aciconfig,\n",
    "                                       image = image,\n",
    "                                       name = aci_service_name,\n",
    "                                       workspace = ws)\n",
    "aci_service.wait_for_deployment(True)\n",
    "print(aci_service.state)\n"
   ]
  },
  {
   "cell_type": "code",
   "execution_count": null,
   "metadata": {
    "collapsed": true,
    "scrolled": true
   },
   "outputs": [],
   "source": [
    "#print(aci_service.get_logs())"
   ]
  },
  {
   "cell_type": "code",
   "execution_count": null,
   "metadata": {
    "scrolled": true
   },
   "outputs": [],
   "source": [
    "print(aci_service.name)\n",
    "print(aci_service.state)\n",
    "print(aci_service.location)\n",
    "print(aci_service.image_id)\n",
    "print(aci_service.scoring_uri)\n",
    "print(aci_service.description)\n",
    "print(aci_service.tags)"
   ]
  },
  {
   "cell_type": "markdown",
   "metadata": {},
   "source": [
    "## Testing"
   ]
  },
  {
   "cell_type": "code",
   "execution_count": null,
   "metadata": {
    "collapsed": true
   },
   "outputs": [],
   "source": [
    "print('web service hosted in ACI:', aci_service.scoring_uri)"
   ]
  },
  {
   "cell_type": "code",
   "execution_count": 57,
   "metadata": {},
   "outputs": [
    {
     "data": {
      "text/plain": [
       "'{\"data\": \"[{\\\\\"cons.conf.idx\\\\\":-36.4,\\\\\"cons.price.idx\\\\\":93.994,\\\\\"contact\\\\\":\\\\\"telephone\\\\\",\\\\\"day_of_week\\\\\":\\\\\"wed\\\\\",\\\\\"default\\\\\":\\\\\"no\\\\\",\\\\\"emp.var.rate\\\\\":1.1,\\\\\"euribor3m\\\\\":4.859,\\\\\"housing\\\\\":\\\\\"no\\\\\",\\\\\"loan\\\\\":\\\\\"no\\\\\",\\\\\"marital\\\\\":\\\\\"married\\\\\",\\\\\"month\\\\\":\\\\\"may\\\\\",\\\\\"nr.employed\\\\\":5191,\\\\\"poutcome\\\\\":\\\\\"nonexistent\\\\\",\\\\\"profession\\\\\":\\\\\"blue-collar\\\\\",\\\\\"responded\\\\\":\\\\\"no\\\\\",\\\\\"schooling\\\\\":\\\\\"basic.6y\\\\\",\\\\\"campaign1\\\\\":2,\\\\\"custAge1\\\\\":42,\\\\\"pastEmail1\\\\\":\\\\\"no\\\\\",\\\\\"pcontacted_pdays\\\\\":true,\\\\\"pContacted_previous\\\\\":\\\\\"no\\\\\"}]\"}'"
      ]
     },
     "execution_count": 57,
     "metadata": {},
     "output_type": "execute_result"
    }
   ],
   "source": [
    "test_json = json.dumps({\"data\": test.to_json(orient='records')})\n",
    "test_json"
   ]
  },
  {
   "cell_type": "code",
   "execution_count": null,
   "metadata": {
    "collapsed": true
   },
   "outputs": [],
   "source": [
    "prediction = aci_service.run(input_data = test_json)\n",
    "print(prediction)"
   ]
  }
 ],
 "metadata": {
  "kernelspec": {
   "display_name": "Python 3",
   "language": "python",
   "name": "python3"
  },
  "language_info": {
   "codemirror_mode": {
    "name": "ipython",
    "version": 3
   },
   "file_extension": ".py",
   "mimetype": "text/x-python",
   "name": "python",
   "nbconvert_exporter": "python",
   "pygments_lexer": "ipython3",
   "version": "3.6.3"
  }
 },
 "nbformat": 4,
 "nbformat_minor": 2
}
