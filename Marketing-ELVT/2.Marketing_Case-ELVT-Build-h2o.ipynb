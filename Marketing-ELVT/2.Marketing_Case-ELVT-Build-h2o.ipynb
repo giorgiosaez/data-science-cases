{
 "cells": [
  {
   "cell_type": "markdown",
   "metadata": {},
   "source": [
    "# 2.Marketing_Case-ELVT-Build"
   ]
  },
  {
   "cell_type": "markdown",
   "metadata": {},
   "source": [
    "# H2O"
   ]
  },
  {
   "cell_type": "code",
   "execution_count": 48,
   "metadata": {
    "collapsed": true
   },
   "outputs": [],
   "source": [
    "%matplotlib inline"
   ]
  },
  {
   "cell_type": "code",
   "execution_count": 49,
   "metadata": {
    "collapsed": true
   },
   "outputs": [],
   "source": [
    "import warnings\n",
    "warnings.filterwarnings(\"ignore\")\n",
    "\n",
    "from IPython.display import display\n",
    "\n",
    "import pandas as pd\n",
    "pd.options.mode.chained_assignment = None  # default='warn'\n",
    "import matplotlib\n",
    "#matplotlib.use('agg')\n",
    "import matplotlib.pyplot as plt\n",
    "import pandas_profiling\n",
    "import seaborn as sns\n",
    "import numpy as np\n",
    "from collections import Counter\n",
    "import pickle\n",
    "\n",
    "import pprint\n",
    "import operator\n",
    "\n",
    "import h2o\n",
    "from h2o.estimators.glm import H2OGeneralizedLinearEstimator\n",
    "from h2o.estimators.gbm import H2OGradientBoostingEstimator\n",
    "from h2o.estimators.random_forest import H2ORandomForestEstimator\n",
    "\n",
    "from tabulate import tabulate"
   ]
  },
  {
   "cell_type": "code",
   "execution_count": 50,
   "metadata": {
    "collapsed": true
   },
   "outputs": [],
   "source": [
    "FILE = 'marketing_training_cleaned.csv'\n",
    "TEST_DF_FILE = './marketing_test.pkl'\n",
    "MODEL_FILE = 'marketing_model'\n",
    "data = pd.read_csv(FILE)"
   ]
  },
  {
   "cell_type": "code",
   "execution_count": 51,
   "metadata": {},
   "outputs": [
    {
     "name": "stdout",
     "output_type": "stream",
     "text": [
      "Checking whether there is an H2O instance running at http://localhost:54323..... not found.\n",
      "Attempting to start a local H2O server...\n",
      "; Java HotSpot(TM) Client VM (build 25.101-b13, mixed mode)\n",
      "  Starting server from C:\\ProgramData\\Anaconda3\\lib\\site-packages\\h2o\\backend\\bin\\h2o.jar\n",
      "  Ice root: C:\\Users\\gsaez\\AppData\\Local\\Temp\\tmp_xbabv83\n",
      "  JVM stdout: C:\\Users\\gsaez\\AppData\\Local\\Temp\\tmp_xbabv83\\h2o_gsaez_started_from_python.out\n",
      "  JVM stderr: C:\\Users\\gsaez\\AppData\\Local\\Temp\\tmp_xbabv83\\h2o_gsaez_started_from_python.err\n",
      "  Server is running at http://127.0.0.1:54323\n",
      "Connecting to H2O server at http://127.0.0.1:54323... successful.\n",
      "Warning: Your H2O cluster version is too old (4 months and 13 days)! Please download and install the latest version from http://h2o.ai/download/\n"
     ]
    },
    {
     "data": {
      "text/html": [
       "<div style=\"overflow:auto\"><table style=\"width:50%\"><tr><td>H2O cluster uptime:</td>\n",
       "<td>02 secs</td></tr>\n",
       "<tr><td>H2O cluster timezone:</td>\n",
       "<td>America/Chicago</td></tr>\n",
       "<tr><td>H2O data parsing timezone:</td>\n",
       "<td>UTC</td></tr>\n",
       "<tr><td>H2O cluster version:</td>\n",
       "<td>3.20.0.4</td></tr>\n",
       "<tr><td>H2O cluster version age:</td>\n",
       "<td>4 months and 13 days !!!</td></tr>\n",
       "<tr><td>H2O cluster name:</td>\n",
       "<td>H2O_from_python_gsaez_3n68dh</td></tr>\n",
       "<tr><td>H2O cluster total nodes:</td>\n",
       "<td>1</td></tr>\n",
       "<tr><td>H2O cluster free memory:</td>\n",
       "<td>247.5 Mb</td></tr>\n",
       "<tr><td>H2O cluster total cores:</td>\n",
       "<td>4</td></tr>\n",
       "<tr><td>H2O cluster allowed cores:</td>\n",
       "<td>4</td></tr>\n",
       "<tr><td>H2O cluster status:</td>\n",
       "<td>accepting new members, healthy</td></tr>\n",
       "<tr><td>H2O connection url:</td>\n",
       "<td>http://127.0.0.1:54323</td></tr>\n",
       "<tr><td>H2O connection proxy:</td>\n",
       "<td>None</td></tr>\n",
       "<tr><td>H2O internal security:</td>\n",
       "<td>False</td></tr>\n",
       "<tr><td>H2O API Extensions:</td>\n",
       "<td>Algos, AutoML, Core V3, Core V4</td></tr>\n",
       "<tr><td>Python version:</td>\n",
       "<td>3.6.3 final</td></tr></table></div>"
      ],
      "text/plain": [
       "--------------------------  -------------------------------\n",
       "H2O cluster uptime:         02 secs\n",
       "H2O cluster timezone:       America/Chicago\n",
       "H2O data parsing timezone:  UTC\n",
       "H2O cluster version:        3.20.0.4\n",
       "H2O cluster version age:    4 months and 13 days !!!\n",
       "H2O cluster name:           H2O_from_python_gsaez_3n68dh\n",
       "H2O cluster total nodes:    1\n",
       "H2O cluster free memory:    247.5 Mb\n",
       "H2O cluster total cores:    4\n",
       "H2O cluster allowed cores:  4\n",
       "H2O cluster status:         accepting new members, healthy\n",
       "H2O connection url:         http://127.0.0.1:54323\n",
       "H2O connection proxy:\n",
       "H2O internal security:      False\n",
       "H2O API Extensions:         Algos, AutoML, Core V3, Core V4\n",
       "Python version:             3.6.3 final\n",
       "--------------------------  -------------------------------"
      ]
     },
     "metadata": {},
     "output_type": "display_data"
    }
   ],
   "source": [
    "h2o.init(ip=\"localhost\", port=54323)"
   ]
  },
  {
   "cell_type": "code",
   "execution_count": 52,
   "metadata": {
    "scrolled": false
   },
   "outputs": [
    {
     "name": "stdout",
     "output_type": "stream",
     "text": [
      "Parse progress: |█████████████████████████████████████████████████████████| 100%\n",
      "Rows:7380\n",
      "Cols:21\n",
      "\n",
      "\n"
     ]
    },
    {
     "data": {
      "text/html": [
       "<table>\n",
       "<thead>\n",
       "<tr><th>       </th><th>cons.conf.idx     </th><th>cons.price.idx    </th><th>contact  </th><th>day_of_week  </th><th>default  </th><th>emp.var.rate        </th><th>euribor3m         </th><th>housing  </th><th>loan  </th><th>marital  </th><th>month  </th><th>nr.employed       </th><th>poutcome   </th><th>profession  </th><th>responded  </th><th>schooling        </th><th>campaign1         </th><th>custAge1         </th><th>pastEmail1  </th><th>pcontacted_pdays  </th><th>pContacted_previous  </th></tr>\n",
       "</thead>\n",
       "<tbody>\n",
       "<tr><td>type   </td><td>real              </td><td>real              </td><td>enum     </td><td>enum         </td><td>enum     </td><td>real                </td><td>real              </td><td>enum     </td><td>enum  </td><td>enum     </td><td>enum   </td><td>real              </td><td>enum       </td><td>enum        </td><td>enum       </td><td>enum             </td><td>int               </td><td>int              </td><td>enum        </td><td>enum              </td><td>enum                 </td></tr>\n",
       "<tr><td>mins   </td><td>-50.8             </td><td>92.201            </td><td>         </td><td>             </td><td>         </td><td>-3.4                </td><td>0.634             </td><td>         </td><td>      </td><td>         </td><td>       </td><td>4963.6            </td><td>           </td><td>            </td><td>           </td><td>                 </td><td>1.0               </td><td>18.0             </td><td>            </td><td>                  </td><td>                     </td></tr>\n",
       "<tr><td>mean   </td><td>-40.56775067750686</td><td>93.57061829268248 </td><td>         </td><td>             </td><td>         </td><td>0.048265582655826506</td><td>3.5789429539295465</td><td>         </td><td>      </td><td>         </td><td>       </td><td>5165.0473712737175</td><td>           </td><td>            </td><td>           </td><td>                 </td><td>2.0264026402640316</td><td>39.80514905149058</td><td>            </td><td>                  </td><td>                     </td></tr>\n",
       "<tr><td>maxs   </td><td>-26.9             </td><td>94.767            </td><td>         </td><td>             </td><td>         </td><td>1.4                 </td><td>5.045             </td><td>         </td><td>      </td><td>         </td><td>       </td><td>5228.1            </td><td>           </td><td>            </td><td>           </td><td>                 </td><td>6.0               </td><td>64.0             </td><td>            </td><td>                  </td><td>                     </td></tr>\n",
       "<tr><td>sigma  </td><td>4.653732975650036 </td><td>0.5791390659374276</td><td>         </td><td>             </td><td>         </td><td>1.5697319890162231  </td><td>1.7462251198691165</td><td>         </td><td>      </td><td>         </td><td>       </td><td>73.14368800240456 </td><td>           </td><td>            </td><td>           </td><td>                 </td><td>1.2618634459509646</td><td>8.93268712954785 </td><td>            </td><td>                  </td><td>                     </td></tr>\n",
       "<tr><td>zeros  </td><td>0                 </td><td>0                 </td><td>         </td><td>             </td><td>         </td><td>0                   </td><td>0                 </td><td>         </td><td>      </td><td>         </td><td>       </td><td>0                 </td><td>           </td><td>            </td><td>           </td><td>                 </td><td>0                 </td><td>0                </td><td>            </td><td>                  </td><td>                     </td></tr>\n",
       "<tr><td>missing</td><td>0                 </td><td>0                 </td><td>0        </td><td>0            </td><td>0        </td><td>0                   </td><td>0                 </td><td>0        </td><td>0     </td><td>0        </td><td>0      </td><td>0                 </td><td>0          </td><td>0           </td><td>0          </td><td>0                </td><td>411               </td><td>0                </td><td>0           </td><td>0                 </td><td>0                    </td></tr>\n",
       "<tr><td>0      </td><td>-42.0             </td><td>93.2              </td><td>cellular </td><td>mon          </td><td>unknown  </td><td>-0.1                </td><td>4.191             </td><td>no       </td><td>no    </td><td>single   </td><td>nov    </td><td>5195.8            </td><td>nonexistent</td><td>admin.      </td><td>no         </td><td>university.degree</td><td>1.0               </td><td>55.0             </td><td>no          </td><td>True              </td><td>no                   </td></tr>\n",
       "<tr><td>1      </td><td>-42.7             </td><td>93.918            </td><td>cellular </td><td>mon          </td><td>no       </td><td>1.4                 </td><td>4.96              </td><td>no       </td><td>no    </td><td>married  </td><td>jul    </td><td>5228.1            </td><td>nonexistent</td><td>blue-collar </td><td>no         </td><td>other            </td><td>1.0               </td><td>42.0             </td><td>no          </td><td>True              </td><td>no                   </td></tr>\n",
       "<tr><td>2      </td><td>-36.4             </td><td>93.994            </td><td>telephone</td><td>mon          </td><td>no       </td><td>1.1                 </td><td>4.857             </td><td>no       </td><td>no    </td><td>married  </td><td>may    </td><td>5191.0            </td><td>nonexistent</td><td>technician  </td><td>no         </td><td>high.school      </td><td>1.0               </td><td>42.0             </td><td>no          </td><td>True              </td><td>no                   </td></tr>\n",
       "<tr><td>3      </td><td>-42.7             </td><td>93.918            </td><td>cellular </td><td>wed          </td><td>unknown  </td><td>1.4                 </td><td>4.962             </td><td>yes      </td><td>yes   </td><td>divorced </td><td>jul    </td><td>5228.1            </td><td>nonexistent</td><td>management  </td><td>no         </td><td>other            </td><td>2.0               </td><td>55.0             </td><td>no          </td><td>True              </td><td>no                   </td></tr>\n",
       "<tr><td>4      </td><td>-46.2             </td><td>92.893            </td><td>cellular </td><td>tue          </td><td>no       </td><td>-1.8                </td><td>1.291             </td><td>yes      </td><td>no    </td><td>divorced </td><td>may    </td><td>5099.1            </td><td>failure    </td><td>admin.      </td><td>no         </td><td>university.degree</td><td>5.0               </td><td>45.0             </td><td>yes         </td><td>True              </td><td>yes                  </td></tr>\n",
       "<tr><td>5      </td><td>-36.4             </td><td>93.994            </td><td>telephone</td><td>fri          </td><td>no       </td><td>1.1                 </td><td>4.857             </td><td>yes      </td><td>no    </td><td>married  </td><td>may    </td><td>5191.0            </td><td>nonexistent</td><td>blue-collar </td><td>no         </td><td>basic.4y         </td><td>1.0               </td><td>47.0             </td><td>no          </td><td>True              </td><td>no                   </td></tr>\n",
       "<tr><td>6      </td><td>-36.4             </td><td>93.994            </td><td>telephone</td><td>tue          </td><td>no       </td><td>1.1                 </td><td>4.856             </td><td>yes      </td><td>no    </td><td>single   </td><td>may    </td><td>5191.0            </td><td>nonexistent</td><td>services    </td><td>yes        </td><td>other            </td><td>1.0               </td><td>35.0             </td><td>no          </td><td>True              </td><td>no                   </td></tr>\n",
       "<tr><td>7      </td><td>-36.4             </td><td>93.994            </td><td>telephone</td><td>wed          </td><td>no       </td><td>1.1                 </td><td>4.856             </td><td>yes      </td><td>no    </td><td>married  </td><td>may    </td><td>5191.0            </td><td>nonexistent</td><td>services    </td><td>no         </td><td>high.school      </td><td>2.0               </td><td>42.0             </td><td>no          </td><td>True              </td><td>no                   </td></tr>\n",
       "<tr><td>8      </td><td>-46.2             </td><td>92.893            </td><td>cellular </td><td>fri          </td><td>no       </td><td>-1.8                </td><td>1.3130000000000002</td><td>yes      </td><td>no    </td><td>married  </td><td>may    </td><td>5099.1            </td><td>nonexistent</td><td>unemployed  </td><td>no         </td><td>basic.9y         </td><td>1.0               </td><td>28.0             </td><td>no          </td><td>True              </td><td>no                   </td></tr>\n",
       "<tr><td>9      </td><td>-42.0             </td><td>93.2              </td><td>cellular </td><td>mon          </td><td>no       </td><td>-0.1                </td><td>4.191             </td><td>yes      </td><td>no    </td><td>married  </td><td>nov    </td><td>5195.8            </td><td>failure    </td><td>blue-collar </td><td>no         </td><td>basic.9y         </td><td>2.0               </td><td>46.0             </td><td>no          </td><td>True              </td><td>yes                  </td></tr>\n",
       "</tbody>\n",
       "</table>"
      ]
     },
     "metadata": {},
     "output_type": "display_data"
    }
   ],
   "source": [
    "mrk = h2o.H2OFrame(data)\n",
    "mrk.describe()"
   ]
  },
  {
   "cell_type": "code",
   "execution_count": 53,
   "metadata": {
    "collapsed": true
   },
   "outputs": [],
   "source": [
    "categorical_variables = [] \n",
    "\n",
    "for variable in mrk.types.items():\n",
    "    if variable[1] == 'enum':\n",
    "        categorical_variables.append(variable[0])\n",
    "\n",
    "for variable in categorical_variables:\n",
    "    mrk[variable] = mrk[variable].asfactor() \n",
    "    \n",
    "predictors = mrk.columns\n",
    "predictors.remove('responded')\n",
    "response = 'responded'\n",
    "\n",
    "\n",
    "train, valid, oot = mrk.split_frame(ratios=[.8,.1], seed=25)\n",
    "\n",
    "#save TEST df for future testing\n",
    "oot[10,:].as_data_frame().to_pickle(TEST_DF_FILE)"
   ]
  },
  {
   "cell_type": "code",
   "execution_count": 54,
   "metadata": {
    "collapsed": true
   },
   "outputs": [],
   "source": [
    "def check_model(model, show_all = False):\n",
    "    if show_all:\n",
    "        display(model)\n",
    "        \n",
    "    print (\"Full model cv auc:\", model.auc(xval=True))\n",
    "    for model_ in model.get_xval_models():\n",
    "        print (model_.model_id, \" training auc:\",model_.auc(), \" validation auc: \", model_.auc(valid=True))"
   ]
  },
  {
   "cell_type": "markdown",
   "metadata": {},
   "source": [
    "## Binary model (GLM)"
   ]
  },
  {
   "cell_type": "code",
   "execution_count": 55,
   "metadata": {
    "scrolled": false
   },
   "outputs": [
    {
     "name": "stdout",
     "output_type": "stream",
     "text": [
      "glm Model Build progress: |███████████████████████████████████████████████| 100%\n",
      "Full model cv auc: 0.79057496423364\n",
      "GLM_model_python_1544807446837_1_cv_1  training auc: 0.8098792574412036  validation auc:  0.7695577989478175\n",
      "GLM_model_python_1544807446837_1_cv_2  training auc: 0.8102042752339995  validation auc:  0.7709517886756693\n",
      "GLM_model_python_1544807446837_1_cv_3  training auc: 0.8102383697713454  validation auc:  0.7768131450861265\n",
      "GLM_model_python_1544807446837_1_cv_4  training auc: 0.8104760083155317  validation auc:  0.7767669172932331\n",
      "GLM_model_python_1544807446837_1_cv_5  training auc: 0.8030755592163816  validation auc:  0.8413142090467671\n",
      "GLM_model_python_1544807446837_1_cv_6  training auc: 0.8102028690263984  validation auc:  0.7708053315412187\n",
      "GLM_model_python_1544807446837_1_cv_7  training auc: 0.8013541925512361  validation auc:  0.8472474289171203\n",
      "GLM_model_python_1544807446837_1_cv_8  training auc: 0.8048669675180881  validation auc:  0.8119625055795269\n",
      "GLM_model_python_1544807446837_1_cv_9  training auc: 0.8100729526540105  validation auc:  0.7616118312574516\n",
      "GLM_model_python_1544807446837_1_cv_10  training auc: 0.8045273664666691  validation auc:  0.8121370026597189\n"
     ]
    }
   ],
   "source": [
    "MRK_binomial = H2OGeneralizedLinearEstimator(family = \"binomial\", nfolds = 10)\n",
    "MRK_binomial.train(y = response, x = predictors, training_frame = train)\n",
    "\n",
    "check_model(MRK_binomial)"
   ]
  },
  {
   "cell_type": "code",
   "execution_count": 56,
   "metadata": {
    "scrolled": true
   },
   "outputs": [
    {
     "name": "stdout",
     "output_type": "stream",
     "text": [
      "glm prediction progress: |████████████████████████████████████████████████| 100%\n"
     ]
    },
    {
     "data": {
      "text/html": [
       "<table>\n",
       "<thead>\n",
       "<tr><th>predict  </th><th style=\"text-align: right;\">      no</th><th style=\"text-align: right;\">      yes</th><th>responded  </th></tr>\n",
       "</thead>\n",
       "<tbody>\n",
       "<tr><td>no       </td><td style=\"text-align: right;\">0.971928</td><td style=\"text-align: right;\">0.028072 </td><td>no         </td></tr>\n",
       "<tr><td>no       </td><td style=\"text-align: right;\">0.848528</td><td style=\"text-align: right;\">0.151472 </td><td>no         </td></tr>\n",
       "<tr><td>no       </td><td style=\"text-align: right;\">0.967886</td><td style=\"text-align: right;\">0.0321143</td><td>no         </td></tr>\n",
       "<tr><td>no       </td><td style=\"text-align: right;\">0.955439</td><td style=\"text-align: right;\">0.0445614</td><td>no         </td></tr>\n",
       "<tr><td>no       </td><td style=\"text-align: right;\">0.872358</td><td style=\"text-align: right;\">0.127642 </td><td>no         </td></tr>\n",
       "<tr><td>no       </td><td style=\"text-align: right;\">0.946033</td><td style=\"text-align: right;\">0.0539668</td><td>no         </td></tr>\n",
       "<tr><td>no       </td><td style=\"text-align: right;\">0.9702  </td><td style=\"text-align: right;\">0.0297996</td><td>no         </td></tr>\n",
       "<tr><td>no       </td><td style=\"text-align: right;\">0.958961</td><td style=\"text-align: right;\">0.0410386</td><td>no         </td></tr>\n",
       "<tr><td>no       </td><td style=\"text-align: right;\">0.924152</td><td style=\"text-align: right;\">0.0758479</td><td>no         </td></tr>\n",
       "<tr><td>no       </td><td style=\"text-align: right;\">0.975278</td><td style=\"text-align: right;\">0.0247217</td><td>no         </td></tr>\n",
       "</tbody>\n",
       "</table>"
      ]
     },
     "metadata": {},
     "output_type": "display_data"
    },
    {
     "data": {
      "text/plain": []
     },
     "execution_count": 56,
     "metadata": {},
     "output_type": "execute_result"
    }
   ],
   "source": [
    "MRK_binomial_pred = MRK_binomial.predict(oot)\n",
    "\n",
    "MRK_binomial_pred.cbind(oot['responded'])"
   ]
  },
  {
   "cell_type": "markdown",
   "metadata": {},
   "source": [
    "## Random Forest (RF)"
   ]
  },
  {
   "cell_type": "code",
   "execution_count": 57,
   "metadata": {
    "scrolled": true
   },
   "outputs": [
    {
     "name": "stdout",
     "output_type": "stream",
     "text": [
      "drf Model Build progress: |███████████████████████████████████████████████| 100%\n",
      "Full model cv auc: 0.7687563419583968\n",
      "DRF_model_python_1544807446837_35_cv_1  training auc: 0.7482179342294993  validation auc:  0.7875705375705375\n",
      "DRF_model_python_1544807446837_35_cv_2  training auc: 0.7481316644304781  validation auc:  0.7638147432985006\n",
      "DRF_model_python_1544807446837_35_cv_3  training auc: 0.7607928601816347  validation auc:  0.7328610603290676\n",
      "DRF_model_python_1544807446837_35_cv_4  training auc: 0.7484443533510965  validation auc:  0.7840071854416704\n",
      "DRF_model_python_1544807446837_35_cv_5  training auc: 0.7586555368878924  validation auc:  0.788454352970482\n",
      "DRF_model_python_1544807446837_35_cv_6  training auc: 0.7631078481429401  validation auc:  0.7897828863346105\n",
      "DRF_model_python_1544807446837_35_cv_7  training auc: 0.7657160317053545  validation auc:  0.7470352783233474\n",
      "DRF_model_python_1544807446837_35_cv_8  training auc: 0.7502442128995714  validation auc:  0.7838078902229845\n",
      "DRF_model_python_1544807446837_35_cv_9  training auc: 0.7564970641963333  validation auc:  0.7770947460159362\n",
      "DRF_model_python_1544807446837_35_cv_10  training auc: 0.752863149167999  validation auc:  0.7572559036385946\n"
     ]
    }
   ],
   "source": [
    "MRK_RF = H2ORandomForestEstimator(nfolds = 10)\n",
    "MRK_RF.train(y = response, x = predictors, training_frame = train, validation_frame = valid)\n",
    "\n",
    "check_model(MRK_RF)"
   ]
  },
  {
   "cell_type": "code",
   "execution_count": 58,
   "metadata": {},
   "outputs": [
    {
     "name": "stdout",
     "output_type": "stream",
     "text": [
      "drf prediction progress: |████████████████████████████████████████████████| 100%\n"
     ]
    },
    {
     "data": {
      "text/html": [
       "<table>\n",
       "<thead>\n",
       "<tr><th>predict  </th><th style=\"text-align: right;\">      no</th><th style=\"text-align: right;\">       yes</th><th>responded  </th></tr>\n",
       "</thead>\n",
       "<tbody>\n",
       "<tr><td>no       </td><td style=\"text-align: right;\">0.962273</td><td style=\"text-align: right;\">0.0377273 </td><td>no         </td></tr>\n",
       "<tr><td>yes      </td><td style=\"text-align: right;\">0.586238</td><td style=\"text-align: right;\">0.413762  </td><td>no         </td></tr>\n",
       "<tr><td>no       </td><td style=\"text-align: right;\">0.992169</td><td style=\"text-align: right;\">0.00783125</td><td>no         </td></tr>\n",
       "<tr><td>no       </td><td style=\"text-align: right;\">0.906032</td><td style=\"text-align: right;\">0.0939683 </td><td>no         </td></tr>\n",
       "<tr><td>no       </td><td style=\"text-align: right;\">0.817358</td><td style=\"text-align: right;\">0.182642  </td><td>no         </td></tr>\n",
       "<tr><td>no       </td><td style=\"text-align: right;\">0.938971</td><td style=\"text-align: right;\">0.0610286 </td><td>no         </td></tr>\n",
       "<tr><td>no       </td><td style=\"text-align: right;\">0.962017</td><td style=\"text-align: right;\">0.0379834 </td><td>no         </td></tr>\n",
       "<tr><td>no       </td><td style=\"text-align: right;\">0.948337</td><td style=\"text-align: right;\">0.051663  </td><td>no         </td></tr>\n",
       "<tr><td>no       </td><td style=\"text-align: right;\">0.93675 </td><td style=\"text-align: right;\">0.06325   </td><td>no         </td></tr>\n",
       "<tr><td>no       </td><td style=\"text-align: right;\">0.979286</td><td style=\"text-align: right;\">0.0207143 </td><td>no         </td></tr>\n",
       "</tbody>\n",
       "</table>"
      ]
     },
     "metadata": {},
     "output_type": "display_data"
    },
    {
     "data": {
      "text/plain": []
     },
     "execution_count": 58,
     "metadata": {},
     "output_type": "execute_result"
    }
   ],
   "source": [
    "MRK_RF = MRK_RF.predict(oot)\n",
    "MRK_RF.cbind(oot['responded'])"
   ]
  },
  {
   "cell_type": "markdown",
   "metadata": {},
   "source": [
    "## Gradient boosting machine model (GBM)"
   ]
  },
  {
   "cell_type": "code",
   "execution_count": 59,
   "metadata": {
    "scrolled": false
   },
   "outputs": [
    {
     "name": "stdout",
     "output_type": "stream",
     "text": [
      "gbm Model Build progress: |███████████████████████████████████████████████| 100%\n",
      "Full model cv auc: 0.8735059260173414\n"
     ]
    }
   ],
   "source": [
    "mrk_gbm = H2OGradientBoostingEstimator(nbins_cats = 10, seed = 25)\n",
    "mrk_gbm.train(x = predictors, y= response, training_frame = train, validation_frame = valid)\n",
    "\n",
    "#check_model(mrk_gbm)\n",
    "\n",
    "print (\"Full model cv auc:\", mrk_gbm.auc())"
   ]
  },
  {
   "cell_type": "code",
   "execution_count": 60,
   "metadata": {},
   "outputs": [
    {
     "data": {
      "image/png": "[encoded data removed]",
      "text/plain": [
       "<matplotlib.figure.Figure at 0x29bf657f080>"
      ]
     },
     "metadata": {},
     "output_type": "display_data"
    }
   ],
   "source": [
    "mrk_gbm.varimp_plot()"
   ]
  },
  {
   "cell_type": "code",
   "execution_count": 61,
   "metadata": {
    "scrolled": true
   },
   "outputs": [
    {
     "name": "stdout",
     "output_type": "stream",
     "text": [
      "gbm prediction progress: |████████████████████████████████████████████████| 100%\n"
     ]
    },
    {
     "data": {
      "text/html": [
       "<table>\n",
       "<thead>\n",
       "<tr><th>predict  </th><th style=\"text-align: right;\">      no</th><th style=\"text-align: right;\">      yes</th><th>responded  </th></tr>\n",
       "</thead>\n",
       "<tbody>\n",
       "<tr><td>no       </td><td style=\"text-align: right;\">0.974409</td><td style=\"text-align: right;\">0.0255911</td><td>no         </td></tr>\n",
       "<tr><td>yes      </td><td style=\"text-align: right;\">0.663645</td><td style=\"text-align: right;\">0.336355 </td><td>no         </td></tr>\n",
       "<tr><td>no       </td><td style=\"text-align: right;\">0.965264</td><td style=\"text-align: right;\">0.0347365</td><td>no         </td></tr>\n",
       "<tr><td>no       </td><td style=\"text-align: right;\">0.945047</td><td style=\"text-align: right;\">0.0549526</td><td>no         </td></tr>\n",
       "<tr><td>no       </td><td style=\"text-align: right;\">0.827919</td><td style=\"text-align: right;\">0.172081 </td><td>no         </td></tr>\n",
       "<tr><td>no       </td><td style=\"text-align: right;\">0.936581</td><td style=\"text-align: right;\">0.0634186</td><td>no         </td></tr>\n",
       "<tr><td>no       </td><td style=\"text-align: right;\">0.966882</td><td style=\"text-align: right;\">0.0331177</td><td>no         </td></tr>\n",
       "<tr><td>no       </td><td style=\"text-align: right;\">0.931096</td><td style=\"text-align: right;\">0.0689035</td><td>no         </td></tr>\n",
       "<tr><td>no       </td><td style=\"text-align: right;\">0.967808</td><td style=\"text-align: right;\">0.032192 </td><td>no         </td></tr>\n",
       "<tr><td>no       </td><td style=\"text-align: right;\">0.964552</td><td style=\"text-align: right;\">0.0354482</td><td>no         </td></tr>\n",
       "</tbody>\n",
       "</table>"
      ]
     },
     "metadata": {},
     "output_type": "display_data"
    },
    {
     "data": {
      "text/plain": []
     },
     "execution_count": 61,
     "metadata": {},
     "output_type": "execute_result"
    }
   ],
   "source": [
    "mrk_gbm_pred = mrk_gbm.predict(oot)\n",
    "mrk_gbm_pred.cbind(oot['responded'])"
   ]
  },
  {
   "cell_type": "markdown",
   "metadata": {},
   "source": [
    "## Save Model"
   ]
  },
  {
   "cell_type": "code",
   "execution_count": 62,
   "metadata": {
    "collapsed": true
   },
   "outputs": [],
   "source": [
    "# save the model\n",
    "model_path = h2o.save_model(model = mrk_gbm, path = MODEL_FILE, force = True)"
   ]
  },
  {
   "cell_type": "markdown",
   "metadata": {},
   "source": [
    "# Shutdown h2o"
   ]
  },
  {
   "cell_type": "code",
   "execution_count": 63,
   "metadata": {},
   "outputs": [
    {
     "name": "stdout",
     "output_type": "stream",
     "text": [
      "H2O session _sid_962e closed.\n"
     ]
    }
   ],
   "source": [
    "h2o.cluster().shutdown()"
   ]
  }
 ],
 "metadata": {
  "kernelspec": {
   "display_name": "Python 3",
   "language": "python",
   "name": "python3"
  },
  "language_info": {
   "codemirror_mode": {
    "name": "ipython",
    "version": 3
   },
   "file_extension": ".py",
   "mimetype": "text/x-python",
   "name": "python",
   "nbconvert_exporter": "python",
   "pygments_lexer": "ipython3",
   "version": "3.6.3"
  }
 },
 "nbformat": 4,
 "nbformat_minor": 2
}
