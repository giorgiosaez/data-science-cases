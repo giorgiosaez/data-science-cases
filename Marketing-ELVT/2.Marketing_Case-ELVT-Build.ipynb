{
 "cells": [
  {
   "cell_type": "code",
   "execution_count": 1,
   "metadata": {
    "collapsed": true
   },
   "outputs": [],
   "source": [
    "%matplotlib inline"
   ]
  },
  {
   "cell_type": "code",
   "execution_count": 2,
   "metadata": {},
   "outputs": [],
   "source": [
    "import warnings\n",
    "warnings.filterwarnings(\"ignore\")\n",
    "\n",
    "from IPython.display import display\n",
    "\n",
    "import pandas as pd\n",
    "pd.options.mode.chained_assignment = None  # default='warn'\n",
    "import matplotlib\n",
    "matplotlib.use('agg')\n",
    "import matplotlib.pyplot as plt\n",
    "import pandas_profiling\n",
    "import seaborn as sns\n",
    "import numpy as np\n",
    "from collections import Counter\n",
    "import pickle\n",
    "\n",
    "import pprint\n",
    "import operator\n",
    "\n",
    "import h2o\n",
    "from h2o.estimators.glm import H2OGeneralizedLinearEstimator\n",
    "from h2o.estimators.gbm import H2OGradientBoostingEstimator\n",
    "from h2o.estimators.random_forest import H2ORandomForestEstimator\n",
    "from h2o.estimators.deeplearning import H2ODeepLearningEstimator\n",
    "from tabulate import tabulate"
   ]
  },
  {
   "cell_type": "code",
   "execution_count": 3,
   "metadata": {
    "collapsed": true
   },
   "outputs": [],
   "source": [
    "FILE = 'marketing_training_cleaned.csv'\n",
    "TEST_DF_FILE = './marketing_test.pkl'\n",
    "MODEL_FILE = 'marketing_model'\n",
    "data = pd.read_csv(FILE)"
   ]
  },
  {
   "cell_type": "code",
   "execution_count": 4,
   "metadata": {
    "scrolled": true
   },
   "outputs": [
    {
     "name": "stdout",
     "output_type": "stream",
     "text": [
      "Checking whether there is an H2O instance running at http://localhost:54323..... not found.\n",
      "Attempting to start a local H2O server...\n",
      "; Java HotSpot(TM) Client VM (build 25.101-b13, mixed mode)\n",
      "  Starting server from C:\\ProgramData\\Anaconda3\\lib\\site-packages\\h2o\\backend\\bin\\h2o.jar\n",
      "  Ice root: C:\\Users\\gsaez\\AppData\\Local\\Temp\\tmpj3l7si18\n",
      "  JVM stdout: C:\\Users\\gsaez\\AppData\\Local\\Temp\\tmpj3l7si18\\h2o_gsaez_started_from_python.out\n",
      "  JVM stderr: C:\\Users\\gsaez\\AppData\\Local\\Temp\\tmpj3l7si18\\h2o_gsaez_started_from_python.err\n",
      "  Server is running at http://127.0.0.1:54323\n",
      "Connecting to H2O server at http://127.0.0.1:54323... successful.\n",
      "Warning: Your H2O cluster version is too old (3 months and 29 days)! Please download and install the latest version from http://h2o.ai/download/\n"
     ]
    },
    {
     "data": {
      "text/html": [
       "<div style=\"overflow:auto\"><table style=\"width:50%\"><tr><td>H2O cluster uptime:</td>\n",
       "<td>02 secs</td></tr>\n",
       "<tr><td>H2O cluster timezone:</td>\n",
       "<td>America/Chicago</td></tr>\n",
       "<tr><td>H2O data parsing timezone:</td>\n",
       "<td>UTC</td></tr>\n",
       "<tr><td>H2O cluster version:</td>\n",
       "<td>3.20.0.4</td></tr>\n",
       "<tr><td>H2O cluster version age:</td>\n",
       "<td>3 months and 29 days !!!</td></tr>\n",
       "<tr><td>H2O cluster name:</td>\n",
       "<td>H2O_from_python_gsaez_mlo48j</td></tr>\n",
       "<tr><td>H2O cluster total nodes:</td>\n",
       "<td>1</td></tr>\n",
       "<tr><td>H2O cluster free memory:</td>\n",
       "<td>247.5 Mb</td></tr>\n",
       "<tr><td>H2O cluster total cores:</td>\n",
       "<td>4</td></tr>\n",
       "<tr><td>H2O cluster allowed cores:</td>\n",
       "<td>4</td></tr>\n",
       "<tr><td>H2O cluster status:</td>\n",
       "<td>accepting new members, healthy</td></tr>\n",
       "<tr><td>H2O connection url:</td>\n",
       "<td>http://127.0.0.1:54323</td></tr>\n",
       "<tr><td>H2O connection proxy:</td>\n",
       "<td>None</td></tr>\n",
       "<tr><td>H2O internal security:</td>\n",
       "<td>False</td></tr>\n",
       "<tr><td>H2O API Extensions:</td>\n",
       "<td>Algos, AutoML, Core V3, Core V4</td></tr>\n",
       "<tr><td>Python version:</td>\n",
       "<td>3.6.3 final</td></tr></table></div>"
      ],
      "text/plain": [
       "--------------------------  -------------------------------\n",
       "H2O cluster uptime:         02 secs\n",
       "H2O cluster timezone:       America/Chicago\n",
       "H2O data parsing timezone:  UTC\n",
       "H2O cluster version:        3.20.0.4\n",
       "H2O cluster version age:    3 months and 29 days !!!\n",
       "H2O cluster name:           H2O_from_python_gsaez_mlo48j\n",
       "H2O cluster total nodes:    1\n",
       "H2O cluster free memory:    247.5 Mb\n",
       "H2O cluster total cores:    4\n",
       "H2O cluster allowed cores:  4\n",
       "H2O cluster status:         accepting new members, healthy\n",
       "H2O connection url:         http://127.0.0.1:54323\n",
       "H2O connection proxy:\n",
       "H2O internal security:      False\n",
       "H2O API Extensions:         Algos, AutoML, Core V3, Core V4\n",
       "Python version:             3.6.3 final\n",
       "--------------------------  -------------------------------"
      ]
     },
     "metadata": {},
     "output_type": "display_data"
    }
   ],
   "source": [
    "import h2o #https://www.h2o.ai/\n",
    "h2o.__PROGRESS_BAR__ = False\n",
    "h2o.no_progress()\n",
    "from h2o.estimators.glm import H2OGeneralizedLinearEstimator\n",
    "from h2o.estimators.gbm import H2OGradientBoostingEstimator\n",
    "h2o.init(ip=\"localhost\", port=54323)"
   ]
  },
  {
   "cell_type": "code",
   "execution_count": 5,
   "metadata": {},
   "outputs": [
    {
     "name": "stdout",
     "output_type": "stream",
     "text": [
      "Rows:7380\n",
      "Cols:21\n",
      "\n",
      "\n"
     ]
    },
    {
     "data": {
      "text/html": [
       "<table>\n",
       "<thead>\n",
       "<tr><th>       </th><th>cons.conf.idx     </th><th>cons.price.idx    </th><th>contact  </th><th>day_of_week  </th><th>default  </th><th>emp.var.rate        </th><th>euribor3m         </th><th>housing  </th><th>loan  </th><th>marital  </th><th>month  </th><th>nr.employed       </th><th>poutcome   </th><th>profession  </th><th>responded  </th><th>schooling        </th><th>campaign1         </th><th>custAge1         </th><th>pastEmail1  </th><th>pcontacted_pdays  </th><th>pContacted_previous  </th></tr>\n",
       "</thead>\n",
       "<tbody>\n",
       "<tr><td>type   </td><td>real              </td><td>real              </td><td>enum     </td><td>enum         </td><td>enum     </td><td>real                </td><td>real              </td><td>enum     </td><td>enum  </td><td>enum     </td><td>enum   </td><td>real              </td><td>enum       </td><td>enum        </td><td>enum       </td><td>enum             </td><td>int               </td><td>int              </td><td>enum        </td><td>enum              </td><td>enum                 </td></tr>\n",
       "<tr><td>mins   </td><td>-50.8             </td><td>92.201            </td><td>         </td><td>             </td><td>         </td><td>-3.4                </td><td>0.634             </td><td>         </td><td>      </td><td>         </td><td>       </td><td>4963.6            </td><td>           </td><td>            </td><td>           </td><td>                 </td><td>1.0               </td><td>18.0             </td><td>            </td><td>                  </td><td>                     </td></tr>\n",
       "<tr><td>mean   </td><td>-40.56775067750686</td><td>93.57061829268248 </td><td>         </td><td>             </td><td>         </td><td>0.048265582655826506</td><td>3.5789429539295465</td><td>         </td><td>      </td><td>         </td><td>       </td><td>5165.0473712737175</td><td>           </td><td>            </td><td>           </td><td>                 </td><td>2.0264026402640316</td><td>39.80514905149058</td><td>            </td><td>                  </td><td>                     </td></tr>\n",
       "<tr><td>maxs   </td><td>-26.9             </td><td>94.767            </td><td>         </td><td>             </td><td>         </td><td>1.4                 </td><td>5.045             </td><td>         </td><td>      </td><td>         </td><td>       </td><td>5228.1            </td><td>           </td><td>            </td><td>           </td><td>                 </td><td>6.0               </td><td>64.0             </td><td>            </td><td>                  </td><td>                     </td></tr>\n",
       "<tr><td>sigma  </td><td>4.653732975650036 </td><td>0.5791390659374276</td><td>         </td><td>             </td><td>         </td><td>1.5697319890162231  </td><td>1.7462251198691165</td><td>         </td><td>      </td><td>         </td><td>       </td><td>73.14368800240456 </td><td>           </td><td>            </td><td>           </td><td>                 </td><td>1.2618634459509646</td><td>8.93268712954785 </td><td>            </td><td>                  </td><td>                     </td></tr>\n",
       "<tr><td>zeros  </td><td>0                 </td><td>0                 </td><td>         </td><td>             </td><td>         </td><td>0                   </td><td>0                 </td><td>         </td><td>      </td><td>         </td><td>       </td><td>0                 </td><td>           </td><td>            </td><td>           </td><td>                 </td><td>0                 </td><td>0                </td><td>            </td><td>                  </td><td>                     </td></tr>\n",
       "<tr><td>missing</td><td>0                 </td><td>0                 </td><td>0        </td><td>0            </td><td>0        </td><td>0                   </td><td>0                 </td><td>0        </td><td>0     </td><td>0        </td><td>0      </td><td>0                 </td><td>0          </td><td>0           </td><td>0          </td><td>0                </td><td>411               </td><td>0                </td><td>0           </td><td>0                 </td><td>0                    </td></tr>\n",
       "<tr><td>0      </td><td>-42.0             </td><td>93.2              </td><td>cellular </td><td>mon          </td><td>unknown  </td><td>-0.1                </td><td>4.191             </td><td>no       </td><td>no    </td><td>single   </td><td>nov    </td><td>5195.8            </td><td>nonexistent</td><td>admin.      </td><td>no         </td><td>university.degree</td><td>1.0               </td><td>55.0             </td><td>no          </td><td>True              </td><td>no                   </td></tr>\n",
       "<tr><td>1      </td><td>-42.7             </td><td>93.918            </td><td>cellular </td><td>mon          </td><td>no       </td><td>1.4                 </td><td>4.96              </td><td>no       </td><td>no    </td><td>married  </td><td>jul    </td><td>5228.1            </td><td>nonexistent</td><td>blue-collar </td><td>no         </td><td>other            </td><td>1.0               </td><td>42.0             </td><td>no          </td><td>True              </td><td>no                   </td></tr>\n",
       "<tr><td>2      </td><td>-36.4             </td><td>93.994            </td><td>telephone</td><td>mon          </td><td>no       </td><td>1.1                 </td><td>4.857             </td><td>no       </td><td>no    </td><td>married  </td><td>may    </td><td>5191.0            </td><td>nonexistent</td><td>technician  </td><td>no         </td><td>high.school      </td><td>1.0               </td><td>42.0             </td><td>no          </td><td>True              </td><td>no                   </td></tr>\n",
       "<tr><td>3      </td><td>-42.7             </td><td>93.918            </td><td>cellular </td><td>wed          </td><td>unknown  </td><td>1.4                 </td><td>4.962             </td><td>yes      </td><td>yes   </td><td>divorced </td><td>jul    </td><td>5228.1            </td><td>nonexistent</td><td>management  </td><td>no         </td><td>other            </td><td>2.0               </td><td>55.0             </td><td>no          </td><td>True              </td><td>no                   </td></tr>\n",
       "<tr><td>4      </td><td>-46.2             </td><td>92.893            </td><td>cellular </td><td>tue          </td><td>no       </td><td>-1.8                </td><td>1.291             </td><td>yes      </td><td>no    </td><td>divorced </td><td>may    </td><td>5099.1            </td><td>failure    </td><td>admin.      </td><td>no         </td><td>university.degree</td><td>5.0               </td><td>45.0             </td><td>yes         </td><td>True              </td><td>yes                  </td></tr>\n",
       "<tr><td>5      </td><td>-36.4             </td><td>93.994            </td><td>telephone</td><td>fri          </td><td>no       </td><td>1.1                 </td><td>4.857             </td><td>yes      </td><td>no    </td><td>married  </td><td>may    </td><td>5191.0            </td><td>nonexistent</td><td>blue-collar </td><td>no         </td><td>basic.4y         </td><td>1.0               </td><td>47.0             </td><td>no          </td><td>True              </td><td>no                   </td></tr>\n",
       "<tr><td>6      </td><td>-36.4             </td><td>93.994            </td><td>telephone</td><td>tue          </td><td>no       </td><td>1.1                 </td><td>4.856             </td><td>yes      </td><td>no    </td><td>single   </td><td>may    </td><td>5191.0            </td><td>nonexistent</td><td>services    </td><td>yes        </td><td>other            </td><td>1.0               </td><td>35.0             </td><td>no          </td><td>True              </td><td>no                   </td></tr>\n",
       "<tr><td>7      </td><td>-36.4             </td><td>93.994            </td><td>telephone</td><td>wed          </td><td>no       </td><td>1.1                 </td><td>4.856             </td><td>yes      </td><td>no    </td><td>married  </td><td>may    </td><td>5191.0            </td><td>nonexistent</td><td>services    </td><td>no         </td><td>high.school      </td><td>2.0               </td><td>42.0             </td><td>no          </td><td>True              </td><td>no                   </td></tr>\n",
       "<tr><td>8      </td><td>-46.2             </td><td>92.893            </td><td>cellular </td><td>fri          </td><td>no       </td><td>-1.8                </td><td>1.3130000000000002</td><td>yes      </td><td>no    </td><td>married  </td><td>may    </td><td>5099.1            </td><td>nonexistent</td><td>unemployed  </td><td>no         </td><td>basic.9y         </td><td>1.0               </td><td>28.0             </td><td>no          </td><td>True              </td><td>no                   </td></tr>\n",
       "<tr><td>9      </td><td>-42.0             </td><td>93.2              </td><td>cellular </td><td>mon          </td><td>no       </td><td>-0.1                </td><td>4.191             </td><td>yes      </td><td>no    </td><td>married  </td><td>nov    </td><td>5195.8            </td><td>failure    </td><td>blue-collar </td><td>no         </td><td>basic.9y         </td><td>2.0               </td><td>46.0             </td><td>no          </td><td>True              </td><td>yes                  </td></tr>\n",
       "</tbody>\n",
       "</table>"
      ]
     },
     "metadata": {},
     "output_type": "display_data"
    }
   ],
   "source": [
    "mrk = h2o.H2OFrame(data)\n",
    "mrk.describe()"
   ]
  },
  {
   "cell_type": "code",
   "execution_count": 12,
   "metadata": {},
   "outputs": [],
   "source": [
    "categorical_variables = [] \n",
    "\n",
    "for variable in mrk.types.items():\n",
    "    if variable[1] == 'enum':\n",
    "        categorical_variables.append(variable[0])\n",
    "\n",
    "for variable in categorical_variables:\n",
    "    mrk[variable] = mrk[variable].asfactor() \n",
    "    \n",
    "predictors = mrk.columns\n",
    "predictors.remove('responded')\n",
    "response = 'responded'\n",
    "\n",
    "\n",
    "train, valid, oot = mrk.split_frame(ratios=[.8,.1], seed=25)\n",
    "\n",
    "#save TEST df for future testing\n",
    "oot[1,:].as_data_frame().to_pickle(TEST_DF_FILE)"
   ]
  },
  {
   "cell_type": "code",
   "execution_count": null,
   "metadata": {},
   "outputs": [],
   "source": [
    "def check_model(model, show_all = False):\n",
    "    if show_all:\n",
    "        display(model)\n",
    "        \n",
    "    print (\"full model training auc:\", model.auc())\n",
    "    print (\"full model cv auc:\", model.auc(xval=True))\n",
    "    for model_ in model.get_xval_models():\n",
    "        print (model_.model_id, \" training auc:\",model_.auc(), \" validation auc: \", model_.auc(valid=True))"
   ]
  },
  {
   "cell_type": "markdown",
   "metadata": {},
   "source": [
    "## Binary model (GLM)"
   ]
  },
  {
   "cell_type": "code",
   "execution_count": null,
   "metadata": {
    "scrolled": false
   },
   "outputs": [],
   "source": [
    "MRK_binomial = H2OGeneralizedLinearEstimator(family = \"binomial\", nfolds = 10)\n",
    "MRK_binomial.train(y = response, x = predictors, training_frame = train)\n",
    "\n",
    "check_model(MRK_binomial, True)"
   ]
  },
  {
   "cell_type": "code",
   "execution_count": null,
   "metadata": {
    "scrolled": true
   },
   "outputs": [],
   "source": [
    "MRK_binomial_pred = MRK_binomial.predict(oot)\n",
    "\n",
    "pred.cbind(oot['responded'])"
   ]
  },
  {
   "cell_type": "markdown",
   "metadata": {},
   "source": [
    "## Gradient boosting machine model (GBM)"
   ]
  },
  {
   "cell_type": "code",
   "execution_count": null,
   "metadata": {
    "scrolled": true
   },
   "outputs": [],
   "source": [
    "mrk_gbm = H2OGradientBoostingEstimator(nbins_cats = 10, seed = 25)\n",
    "mrk_gbm.train(x = predictors, y= response, training_frame = train, validation_frame = valid)\n",
    "\n",
    "print (\"full model training auc:\", mrk_gbm.auc())\n",
    "print (\"full model cv auc:\", mrk_gbm.auc(xval=True))\n",
    "\n",
    "mrk_gbm"
   ]
  },
  {
   "cell_type": "code",
   "execution_count": null,
   "metadata": {},
   "outputs": [],
   "source": [
    "mrk_gbm_pred = mrk_gbm.predict(oot)\n",
    "\n",
    "mrk_gbm_pred.cbind(oot['responded'])\n"
   ]
  },
  {
   "cell_type": "code",
   "execution_count": null,
   "metadata": {},
   "outputs": [],
   "source": [
    "# save the model\n",
    "model_path = h2o.save_model(model = mrk_gbm, path = MODEL_FILE, force = True)"
   ]
  },
  {
   "cell_type": "code",
   "execution_count": null,
   "metadata": {},
   "outputs": [],
   "source": [
    "h2o.cluster().shutdown()"
   ]
  }
 ],
 "metadata": {
  "kernelspec": {
   "display_name": "Python 3",
   "language": "python",
   "name": "python3"
  },
  "language_info": {
   "codemirror_mode": {
    "name": "ipython",
    "version": 3
   },
   "file_extension": ".py",
   "mimetype": "text/x-python",
   "name": "python",
   "nbconvert_exporter": "python",
   "pygments_lexer": "ipython3",
   "version": "3.6.3"
  }
 },
 "nbformat": 4,
 "nbformat_minor": 2
}
